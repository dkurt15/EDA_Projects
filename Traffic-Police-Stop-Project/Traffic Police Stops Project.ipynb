{
 "cells": [
  {
   "cell_type": "markdown",
   "id": "biological-serial",
   "metadata": {},
   "source": [
    "# Traffic Police Stops Project"
   ]
  },
  {
   "cell_type": "markdown",
   "id": "spiritual-compromise",
   "metadata": {},
   "source": [
    "## Table of Contents:\n",
    "* [Goal](#goal)\n",
    "* [Data Preprocessing](#predata)\n",
    "    * [Importing the Libraries](#library)\n",
    "    * [Reading and Viewing the Dataset](#dataset)\n",
    "    * [Detecting Missing Values](#missing)\n",
    "    * [Adjusting columns and rows](#colandrow)\n",
    "* [Role of Gender in Traffic Stops](#gender)\n",
    "    * [Examining Traffic Violations](#violations)\n",
    "    * [Comparing Violations by Gender](#violationsbygender)\n",
    "    * [Comparing Speeding Outcomes by Gender](#speedingbygender)\n",
    "    * [Calculating the Search Rate](#searchrate)\n",
    "    * [Comparing Search Rates by Gender](#searchratebygender)\n",
    "    * [Adding a Second Factor to the Analysis](#secondfactor)\n",
    "    * [Counting Protective Frisks](#frisk)\n",
    "    * [Comparing Frisk Rates by Gender](#friskbygender)\n",
    "* [Are people more likely to get arrested at a certain time of the day?](#uhrzeit)\n",
    "    * [Calculating the Hourly Arrest Rate](#hourlyarrestrate)\n",
    "    * [Plotting the Hourly Arrest Rate](#hourlyarrestrateplot)\n",
    "* [Drug-Related Stops](#drug)\n",
    "    * [Plotting Drug-Related Stops](#drugstops)\n",
    "    * [Comparing Drug and Search Rates](#drugandsearchrate)\n",
    "* [Police District Comparison](#district)\n",
    "    * [Plotting Violations by District](#districtplot)\n",
    "* [Stop Length](#stoplength)\n",
    "    * [Plotting Stop Length](#stoplengthplot)\n",
    "* [Impact of Weather Conditions on Police Behavior](#weather)\n",
    "    * [Plotting the Temperature](#tempplot)\n",
    "    * [Plotting the Temperature Difference](#tempplotdiff)\n",
    "    * [Counting Bad Weather Conditions](#badweather)\n",
    "    * [Rating the Weather Conditions](#ratingweather)\n",
    "    * [Comparing Arrest Rates by Weather Rating](#weatherandarrestrate)\n",
    "        * [Preparing the DataFrames](#dfprep)\n",
    "        * [Merging the DataFrames](#dfmerge)\n",
    "* [Summary](#summary)\n",
    "    * [Conclusion](#conc)"
   ]
  },
  {
   "cell_type": "markdown",
   "id": "breathing-amsterdam",
   "metadata": {},
   "source": [
    "## Goal <a class=\"anchor\" id=\"goal\"></a>"
   ]
  },
  {
   "cell_type": "markdown",
   "id": "equipped-programming",
   "metadata": {},
   "source": [
    "We are going to be analyzing a dataset of traffic stops in Rhode Island that was collected by the Standford Open Policing Project. We aim to explore the relationship between certain features of our dataset such as gender, weather conditions, violations and conducted searches."
   ]
  },
  {
   "cell_type": "markdown",
   "id": "continued-victor",
   "metadata": {},
   "source": [
    "## Dataset <a class=\"anchor\" id=\"predata\"></a>"
   ]
  },
  {
   "cell_type": "markdown",
   "id": "motivated-painting",
   "metadata": {},
   "source": [
    "### Importing the Libraries <a class=\"anchor\" id=\"library\"></a>"
   ]
  },
  {
   "cell_type": "code",
   "execution_count": 2,
   "id": "center-somewhere",
   "metadata": {},
   "outputs": [],
   "source": [
    "import pandas as pd\n",
    "import warnings\n",
    "import numpy as np\n",
    "import matplotlib.pyplot as plt\n",
    "warnings.filterwarnings(\"ignore\")"
   ]
  },
  {
   "cell_type": "markdown",
   "id": "honey-warren",
   "metadata": {},
   "source": [
    "### Reading and Viewing the Dataset <a class=\"anchor\" id=\"dataset\"></a>"
   ]
  },
  {
   "cell_type": "code",
   "execution_count": 3,
   "id": "seven-pepper",
   "metadata": {},
   "outputs": [],
   "source": [
    "df = pd.read_csv(\"police.csv\")                            # retrieving the dataset"
   ]
  },
  {
   "cell_type": "code",
   "execution_count": 4,
   "id": "sapphire-excerpt",
   "metadata": {},
   "outputs": [
    {
     "data": {
      "text/plain": [
       "Index(['id', 'state', 'stop_date', 'stop_time', 'location_raw', 'county_name',\n",
       "       'county_fips', 'fine_grained_location', 'police_department',\n",
       "       'driver_gender', 'driver_age_raw', 'driver_age', 'driver_race_raw',\n",
       "       'driver_race', 'violation_raw', 'violation', 'search_conducted',\n",
       "       'search_type_raw', 'search_type', 'contraband_found', 'stop_outcome',\n",
       "       'is_arrested', 'stop_duration', 'out_of_state', 'drugs_related_stop',\n",
       "       'district'],\n",
       "      dtype='object')"
      ]
     },
     "execution_count": 4,
     "metadata": {},
     "output_type": "execute_result"
    }
   ],
   "source": [
    "df.columns"
   ]
  },
  {
   "cell_type": "code",
   "execution_count": 5,
   "id": "informative-chair",
   "metadata": {
    "scrolled": true
   },
   "outputs": [
    {
     "data": {
      "text/html": [
       "<div>\n",
       "<style scoped>\n",
       "    .dataframe tbody tr th:only-of-type {\n",
       "        vertical-align: middle;\n",
       "    }\n",
       "\n",
       "    .dataframe tbody tr th {\n",
       "        vertical-align: top;\n",
       "    }\n",
       "\n",
       "    .dataframe thead th {\n",
       "        text-align: right;\n",
       "    }\n",
       "</style>\n",
       "<table border=\"1\" class=\"dataframe\">\n",
       "  <thead>\n",
       "    <tr style=\"text-align: right;\">\n",
       "      <th></th>\n",
       "      <th>id</th>\n",
       "      <th>state</th>\n",
       "      <th>stop_date</th>\n",
       "      <th>stop_time</th>\n",
       "      <th>location_raw</th>\n",
       "      <th>county_name</th>\n",
       "      <th>county_fips</th>\n",
       "      <th>fine_grained_location</th>\n",
       "      <th>police_department</th>\n",
       "      <th>driver_gender</th>\n",
       "      <th>...</th>\n",
       "      <th>search_conducted</th>\n",
       "      <th>search_type_raw</th>\n",
       "      <th>search_type</th>\n",
       "      <th>contraband_found</th>\n",
       "      <th>stop_outcome</th>\n",
       "      <th>is_arrested</th>\n",
       "      <th>stop_duration</th>\n",
       "      <th>out_of_state</th>\n",
       "      <th>drugs_related_stop</th>\n",
       "      <th>district</th>\n",
       "    </tr>\n",
       "  </thead>\n",
       "  <tbody>\n",
       "    <tr>\n",
       "      <th>0</th>\n",
       "      <td>RI-2005-00001</td>\n",
       "      <td>RI</td>\n",
       "      <td>2005-01-02</td>\n",
       "      <td>01:55</td>\n",
       "      <td>Zone K1</td>\n",
       "      <td>NaN</td>\n",
       "      <td>NaN</td>\n",
       "      <td>NaN</td>\n",
       "      <td>600</td>\n",
       "      <td>M</td>\n",
       "      <td>...</td>\n",
       "      <td>False</td>\n",
       "      <td>NaN</td>\n",
       "      <td>NaN</td>\n",
       "      <td>False</td>\n",
       "      <td>Citation</td>\n",
       "      <td>False</td>\n",
       "      <td>0-15 Min</td>\n",
       "      <td>False</td>\n",
       "      <td>False</td>\n",
       "      <td>Zone K1</td>\n",
       "    </tr>\n",
       "    <tr>\n",
       "      <th>1</th>\n",
       "      <td>RI-2005-00002</td>\n",
       "      <td>RI</td>\n",
       "      <td>2005-01-02</td>\n",
       "      <td>20:30</td>\n",
       "      <td>Zone X4</td>\n",
       "      <td>NaN</td>\n",
       "      <td>NaN</td>\n",
       "      <td>NaN</td>\n",
       "      <td>500</td>\n",
       "      <td>M</td>\n",
       "      <td>...</td>\n",
       "      <td>False</td>\n",
       "      <td>NaN</td>\n",
       "      <td>NaN</td>\n",
       "      <td>False</td>\n",
       "      <td>Citation</td>\n",
       "      <td>False</td>\n",
       "      <td>16-30 Min</td>\n",
       "      <td>False</td>\n",
       "      <td>False</td>\n",
       "      <td>Zone X4</td>\n",
       "    </tr>\n",
       "    <tr>\n",
       "      <th>2</th>\n",
       "      <td>RI-2005-00003</td>\n",
       "      <td>RI</td>\n",
       "      <td>2005-01-04</td>\n",
       "      <td>11:30</td>\n",
       "      <td>Zone X1</td>\n",
       "      <td>NaN</td>\n",
       "      <td>NaN</td>\n",
       "      <td>NaN</td>\n",
       "      <td>0</td>\n",
       "      <td>NaN</td>\n",
       "      <td>...</td>\n",
       "      <td>False</td>\n",
       "      <td>NaN</td>\n",
       "      <td>NaN</td>\n",
       "      <td>False</td>\n",
       "      <td>NaN</td>\n",
       "      <td>NaN</td>\n",
       "      <td>NaN</td>\n",
       "      <td>NaN</td>\n",
       "      <td>False</td>\n",
       "      <td>Zone X1</td>\n",
       "    </tr>\n",
       "    <tr>\n",
       "      <th>3</th>\n",
       "      <td>RI-2005-00004</td>\n",
       "      <td>RI</td>\n",
       "      <td>2005-01-04</td>\n",
       "      <td>12:55</td>\n",
       "      <td>Zone X4</td>\n",
       "      <td>NaN</td>\n",
       "      <td>NaN</td>\n",
       "      <td>NaN</td>\n",
       "      <td>500</td>\n",
       "      <td>M</td>\n",
       "      <td>...</td>\n",
       "      <td>False</td>\n",
       "      <td>NaN</td>\n",
       "      <td>NaN</td>\n",
       "      <td>False</td>\n",
       "      <td>Citation</td>\n",
       "      <td>False</td>\n",
       "      <td>0-15 Min</td>\n",
       "      <td>False</td>\n",
       "      <td>False</td>\n",
       "      <td>Zone X4</td>\n",
       "    </tr>\n",
       "    <tr>\n",
       "      <th>4</th>\n",
       "      <td>RI-2005-00005</td>\n",
       "      <td>RI</td>\n",
       "      <td>2005-01-06</td>\n",
       "      <td>01:30</td>\n",
       "      <td>Zone X4</td>\n",
       "      <td>NaN</td>\n",
       "      <td>NaN</td>\n",
       "      <td>NaN</td>\n",
       "      <td>500</td>\n",
       "      <td>M</td>\n",
       "      <td>...</td>\n",
       "      <td>False</td>\n",
       "      <td>NaN</td>\n",
       "      <td>NaN</td>\n",
       "      <td>False</td>\n",
       "      <td>Citation</td>\n",
       "      <td>False</td>\n",
       "      <td>0-15 Min</td>\n",
       "      <td>False</td>\n",
       "      <td>False</td>\n",
       "      <td>Zone X4</td>\n",
       "    </tr>\n",
       "  </tbody>\n",
       "</table>\n",
       "<p>5 rows × 26 columns</p>\n",
       "</div>"
      ],
      "text/plain": [
       "              id state   stop_date stop_time location_raw  county_name  \\\n",
       "0  RI-2005-00001    RI  2005-01-02     01:55      Zone K1          NaN   \n",
       "1  RI-2005-00002    RI  2005-01-02     20:30      Zone X4          NaN   \n",
       "2  RI-2005-00003    RI  2005-01-04     11:30      Zone X1          NaN   \n",
       "3  RI-2005-00004    RI  2005-01-04     12:55      Zone X4          NaN   \n",
       "4  RI-2005-00005    RI  2005-01-06     01:30      Zone X4          NaN   \n",
       "\n",
       "   county_fips  fine_grained_location police_department driver_gender  ...  \\\n",
       "0          NaN                    NaN               600             M  ...   \n",
       "1          NaN                    NaN               500             M  ...   \n",
       "2          NaN                    NaN                 0           NaN  ...   \n",
       "3          NaN                    NaN               500             M  ...   \n",
       "4          NaN                    NaN               500             M  ...   \n",
       "\n",
       "   search_conducted  search_type_raw search_type contraband_found  \\\n",
       "0             False              NaN         NaN            False   \n",
       "1             False              NaN         NaN            False   \n",
       "2             False              NaN         NaN            False   \n",
       "3             False              NaN         NaN            False   \n",
       "4             False              NaN         NaN            False   \n",
       "\n",
       "  stop_outcome is_arrested stop_duration out_of_state drugs_related_stop  \\\n",
       "0     Citation       False      0-15 Min        False              False   \n",
       "1     Citation       False     16-30 Min        False              False   \n",
       "2          NaN         NaN           NaN          NaN              False   \n",
       "3     Citation       False      0-15 Min        False              False   \n",
       "4     Citation       False      0-15 Min        False              False   \n",
       "\n",
       "   district  \n",
       "0   Zone K1  \n",
       "1   Zone X4  \n",
       "2   Zone X1  \n",
       "3   Zone X4  \n",
       "4   Zone X4  \n",
       "\n",
       "[5 rows x 26 columns]"
      ]
     },
     "execution_count": 5,
     "metadata": {},
     "output_type": "execute_result"
    }
   ],
   "source": [
    "df.head()                                                 # observing first 5 rows"
   ]
  },
  {
   "cell_type": "code",
   "execution_count": 6,
   "id": "alive-trinity",
   "metadata": {},
   "outputs": [
    {
     "data": {
      "text/html": [
       "<div>\n",
       "<style scoped>\n",
       "    .dataframe tbody tr th:only-of-type {\n",
       "        vertical-align: middle;\n",
       "    }\n",
       "\n",
       "    .dataframe tbody tr th {\n",
       "        vertical-align: top;\n",
       "    }\n",
       "\n",
       "    .dataframe thead th {\n",
       "        text-align: right;\n",
       "    }\n",
       "</style>\n",
       "<table border=\"1\" class=\"dataframe\">\n",
       "  <thead>\n",
       "    <tr style=\"text-align: right;\">\n",
       "      <th></th>\n",
       "      <th>id</th>\n",
       "      <th>state</th>\n",
       "      <th>stop_date</th>\n",
       "      <th>stop_time</th>\n",
       "      <th>location_raw</th>\n",
       "      <th>county_name</th>\n",
       "      <th>county_fips</th>\n",
       "      <th>fine_grained_location</th>\n",
       "      <th>police_department</th>\n",
       "      <th>driver_gender</th>\n",
       "      <th>...</th>\n",
       "      <th>search_conducted</th>\n",
       "      <th>search_type_raw</th>\n",
       "      <th>search_type</th>\n",
       "      <th>contraband_found</th>\n",
       "      <th>stop_outcome</th>\n",
       "      <th>is_arrested</th>\n",
       "      <th>stop_duration</th>\n",
       "      <th>out_of_state</th>\n",
       "      <th>drugs_related_stop</th>\n",
       "      <th>district</th>\n",
       "    </tr>\n",
       "  </thead>\n",
       "  <tbody>\n",
       "    <tr>\n",
       "      <th>509676</th>\n",
       "      <td>RI-NA-06</td>\n",
       "      <td>RI</td>\n",
       "      <td>NaN</td>\n",
       "      <td>NaN</td>\n",
       "      <td>Zone NA</td>\n",
       "      <td>NaN</td>\n",
       "      <td>NaN</td>\n",
       "      <td>NaN</td>\n",
       "      <td>NaN</td>\n",
       "      <td>NaN</td>\n",
       "      <td>...</td>\n",
       "      <td>NaN</td>\n",
       "      <td>NaN</td>\n",
       "      <td>NaN</td>\n",
       "      <td>False</td>\n",
       "      <td>NaN</td>\n",
       "      <td>NaN</td>\n",
       "      <td>NaN</td>\n",
       "      <td>NaN</td>\n",
       "      <td>False</td>\n",
       "      <td>Zone NA</td>\n",
       "    </tr>\n",
       "    <tr>\n",
       "      <th>509677</th>\n",
       "      <td>RI-NA-07</td>\n",
       "      <td>RI</td>\n",
       "      <td>NaN</td>\n",
       "      <td>NaN</td>\n",
       "      <td>Zone NA</td>\n",
       "      <td>NaN</td>\n",
       "      <td>NaN</td>\n",
       "      <td>NaN</td>\n",
       "      <td>NaN</td>\n",
       "      <td>NaN</td>\n",
       "      <td>...</td>\n",
       "      <td>NaN</td>\n",
       "      <td>NaN</td>\n",
       "      <td>NaN</td>\n",
       "      <td>False</td>\n",
       "      <td>NaN</td>\n",
       "      <td>NaN</td>\n",
       "      <td>NaN</td>\n",
       "      <td>NaN</td>\n",
       "      <td>False</td>\n",
       "      <td>Zone NA</td>\n",
       "    </tr>\n",
       "    <tr>\n",
       "      <th>509678</th>\n",
       "      <td>RI-NA-08</td>\n",
       "      <td>RI</td>\n",
       "      <td>NaN</td>\n",
       "      <td>NaN</td>\n",
       "      <td>Zone NA</td>\n",
       "      <td>NaN</td>\n",
       "      <td>NaN</td>\n",
       "      <td>NaN</td>\n",
       "      <td>NaN</td>\n",
       "      <td>NaN</td>\n",
       "      <td>...</td>\n",
       "      <td>NaN</td>\n",
       "      <td>NaN</td>\n",
       "      <td>NaN</td>\n",
       "      <td>False</td>\n",
       "      <td>NaN</td>\n",
       "      <td>NaN</td>\n",
       "      <td>NaN</td>\n",
       "      <td>NaN</td>\n",
       "      <td>False</td>\n",
       "      <td>Zone NA</td>\n",
       "    </tr>\n",
       "    <tr>\n",
       "      <th>509679</th>\n",
       "      <td>RI-NA-09</td>\n",
       "      <td>RI</td>\n",
       "      <td>NaN</td>\n",
       "      <td>NaN</td>\n",
       "      <td>Zone NA</td>\n",
       "      <td>NaN</td>\n",
       "      <td>NaN</td>\n",
       "      <td>NaN</td>\n",
       "      <td>NaN</td>\n",
       "      <td>NaN</td>\n",
       "      <td>...</td>\n",
       "      <td>NaN</td>\n",
       "      <td>NaN</td>\n",
       "      <td>NaN</td>\n",
       "      <td>False</td>\n",
       "      <td>NaN</td>\n",
       "      <td>NaN</td>\n",
       "      <td>NaN</td>\n",
       "      <td>NaN</td>\n",
       "      <td>False</td>\n",
       "      <td>Zone NA</td>\n",
       "    </tr>\n",
       "    <tr>\n",
       "      <th>509680</th>\n",
       "      <td>RI-NA-10</td>\n",
       "      <td>RI</td>\n",
       "      <td>NaN</td>\n",
       "      <td>NaN</td>\n",
       "      <td>Zone NA</td>\n",
       "      <td>NaN</td>\n",
       "      <td>NaN</td>\n",
       "      <td>NaN</td>\n",
       "      <td>NaN</td>\n",
       "      <td>NaN</td>\n",
       "      <td>...</td>\n",
       "      <td>NaN</td>\n",
       "      <td>NaN</td>\n",
       "      <td>NaN</td>\n",
       "      <td>False</td>\n",
       "      <td>NaN</td>\n",
       "      <td>NaN</td>\n",
       "      <td>NaN</td>\n",
       "      <td>NaN</td>\n",
       "      <td>False</td>\n",
       "      <td>Zone NA</td>\n",
       "    </tr>\n",
       "  </tbody>\n",
       "</table>\n",
       "<p>5 rows × 26 columns</p>\n",
       "</div>"
      ],
      "text/plain": [
       "              id state stop_date stop_time location_raw  county_name  \\\n",
       "509676  RI-NA-06    RI       NaN       NaN      Zone NA          NaN   \n",
       "509677  RI-NA-07    RI       NaN       NaN      Zone NA          NaN   \n",
       "509678  RI-NA-08    RI       NaN       NaN      Zone NA          NaN   \n",
       "509679  RI-NA-09    RI       NaN       NaN      Zone NA          NaN   \n",
       "509680  RI-NA-10    RI       NaN       NaN      Zone NA          NaN   \n",
       "\n",
       "        county_fips  fine_grained_location police_department driver_gender  \\\n",
       "509676          NaN                    NaN               NaN           NaN   \n",
       "509677          NaN                    NaN               NaN           NaN   \n",
       "509678          NaN                    NaN               NaN           NaN   \n",
       "509679          NaN                    NaN               NaN           NaN   \n",
       "509680          NaN                    NaN               NaN           NaN   \n",
       "\n",
       "        ...  search_conducted  search_type_raw search_type contraband_found  \\\n",
       "509676  ...               NaN              NaN         NaN            False   \n",
       "509677  ...               NaN              NaN         NaN            False   \n",
       "509678  ...               NaN              NaN         NaN            False   \n",
       "509679  ...               NaN              NaN         NaN            False   \n",
       "509680  ...               NaN              NaN         NaN            False   \n",
       "\n",
       "       stop_outcome is_arrested stop_duration out_of_state drugs_related_stop  \\\n",
       "509676          NaN         NaN           NaN          NaN              False   \n",
       "509677          NaN         NaN           NaN          NaN              False   \n",
       "509678          NaN         NaN           NaN          NaN              False   \n",
       "509679          NaN         NaN           NaN          NaN              False   \n",
       "509680          NaN         NaN           NaN          NaN              False   \n",
       "\n",
       "        district  \n",
       "509676   Zone NA  \n",
       "509677   Zone NA  \n",
       "509678   Zone NA  \n",
       "509679   Zone NA  \n",
       "509680   Zone NA  \n",
       "\n",
       "[5 rows x 26 columns]"
      ]
     },
     "execution_count": 6,
     "metadata": {},
     "output_type": "execute_result"
    }
   ],
   "source": [
    "df.tail()                                                # observing last 5 rows"
   ]
  },
  {
   "cell_type": "markdown",
   "id": "opening-bikini",
   "metadata": {},
   "source": [
    "### Detecting Missing Values <a class=\"anchor\" id=\"missing\"></a>"
   ]
  },
  {
   "cell_type": "code",
   "execution_count": 7,
   "id": "posted-condition",
   "metadata": {},
   "outputs": [
    {
     "data": {
      "text/plain": [
       "id                            0\n",
       "state                         0\n",
       "stop_date                    10\n",
       "stop_time                    10\n",
       "location_raw                  0\n",
       "county_name              509681\n",
       "county_fips              509681\n",
       "fine_grained_location    509681\n",
       "police_department            10\n",
       "driver_gender             29097\n",
       "driver_age_raw            29049\n",
       "driver_age                30695\n",
       "driver_race_raw           29073\n",
       "driver_race               29073\n",
       "violation_raw             29073\n",
       "violation                 29073\n",
       "search_conducted             10\n",
       "search_type_raw          491919\n",
       "search_type              491919\n",
       "contraband_found              0\n",
       "stop_outcome              29073\n",
       "is_arrested               29073\n",
       "stop_duration             29073\n",
       "out_of_state              29881\n",
       "drugs_related_stop            0\n",
       "district                      0\n",
       "dtype: int64"
      ]
     },
     "execution_count": 7,
     "metadata": {},
     "output_type": "execute_result"
    }
   ],
   "source": [
    "df.isnull().sum()"
   ]
  },
  {
   "cell_type": "markdown",
   "id": "documented-disabled",
   "metadata": {},
   "source": [
    "### Adjusting Columns and Rows <a class=\"anchor\" id=\"colandrow\"></a>"
   ]
  },
  {
   "cell_type": "markdown",
   "id": "existing-shadow",
   "metadata": {},
   "source": [
    "The feature that indicates the gender of drivers will be critical to our analysis. As we've seen previously, only a small fraction of rows are missing from mentioned columns. We are going to drop these rows from the dataset"
   ]
  },
  {
   "cell_type": "code",
   "execution_count": 8,
   "id": "temporal-preference",
   "metadata": {},
   "outputs": [
    {
     "data": {
      "text/plain": [
       "(509681, 26)"
      ]
     },
     "execution_count": 8,
     "metadata": {},
     "output_type": "execute_result"
    }
   ],
   "source": [
    "df.shape                                                      # checking dimensions before dropping"
   ]
  },
  {
   "cell_type": "code",
   "execution_count": 9,
   "id": "6759af7c",
   "metadata": {},
   "outputs": [],
   "source": [
    "df.drop(['county_name','state'], axis=1, inplace=True)"
   ]
  },
  {
   "cell_type": "code",
   "execution_count": 10,
   "id": "b7eebf3e",
   "metadata": {},
   "outputs": [
    {
     "data": {
      "text/plain": [
       "(509681, 24)"
      ]
     },
     "execution_count": 10,
     "metadata": {},
     "output_type": "execute_result"
    }
   ],
   "source": [
    "df.shape                                                      # rechecking dimensions"
   ]
  },
  {
   "cell_type": "code",
   "execution_count": 11,
   "id": "aadd9936",
   "metadata": {},
   "outputs": [
    {
     "data": {
      "text/plain": [
       "id                            0\n",
       "stop_date                    10\n",
       "stop_time                    10\n",
       "location_raw                  0\n",
       "county_fips              509681\n",
       "fine_grained_location    509681\n",
       "police_department            10\n",
       "driver_gender             29097\n",
       "driver_age_raw            29049\n",
       "driver_age                30695\n",
       "driver_race_raw           29073\n",
       "driver_race               29073\n",
       "violation_raw             29073\n",
       "violation                 29073\n",
       "search_conducted             10\n",
       "search_type_raw          491919\n",
       "search_type              491919\n",
       "contraband_found              0\n",
       "stop_outcome              29073\n",
       "is_arrested               29073\n",
       "stop_duration             29073\n",
       "out_of_state              29881\n",
       "drugs_related_stop            0\n",
       "district                      0\n",
       "dtype: int64"
      ]
     },
     "execution_count": 11,
     "metadata": {},
     "output_type": "execute_result"
    }
   ],
   "source": [
    "df.isnull().sum()                                             # counting the number of missing values again"
   ]
  },
  {
   "cell_type": "code",
   "execution_count": 12,
   "id": "above-hospital",
   "metadata": {},
   "outputs": [],
   "source": [
    "df.dropna(subset=['driver_gender'], axis=0, inplace=True)"
   ]
  },
  {
   "cell_type": "code",
   "execution_count": 13,
   "id": "terminal-ordering",
   "metadata": {
    "scrolled": true
   },
   "outputs": [
    {
     "data": {
      "text/plain": [
       "(480584, 24)"
      ]
     },
     "execution_count": 13,
     "metadata": {},
     "output_type": "execute_result"
    }
   ],
   "source": [
    "df.shape                                                      # checking dimensions after dropping"
   ]
  },
  {
   "cell_type": "markdown",
   "id": "pointed-drinking",
   "metadata": {},
   "source": [
    "***"
   ]
  },
  {
   "cell_type": "markdown",
   "id": "final-caution",
   "metadata": {},
   "source": [
    "The ``is_arrested`` column currently has the object data type. In order for us to perform mathematical operations on it, we are going to change the data type to boolean."
   ]
  },
  {
   "cell_type": "code",
   "execution_count": 14,
   "id": "rolled-expression",
   "metadata": {},
   "outputs": [
    {
     "data": {
      "text/plain": [
       "id                        object\n",
       "stop_date                 object\n",
       "stop_time                 object\n",
       "location_raw              object\n",
       "county_fips              float64\n",
       "fine_grained_location    float64\n",
       "police_department         object\n",
       "driver_gender             object\n",
       "driver_age_raw           float64\n",
       "driver_age               float64\n",
       "driver_race_raw           object\n",
       "driver_race               object\n",
       "violation_raw             object\n",
       "violation                 object\n",
       "search_conducted          object\n",
       "search_type_raw           object\n",
       "search_type               object\n",
       "contraband_found            bool\n",
       "stop_outcome              object\n",
       "is_arrested               object\n",
       "stop_duration             object\n",
       "out_of_state              object\n",
       "drugs_related_stop          bool\n",
       "district                  object\n",
       "dtype: object"
      ]
     },
     "execution_count": 14,
     "metadata": {},
     "output_type": "execute_result"
    }
   ],
   "source": [
    "df.dtypes                                                     # data types of the columns"
   ]
  },
  {
   "cell_type": "code",
   "execution_count": 15,
   "id": "complimentary-dakota",
   "metadata": {},
   "outputs": [],
   "source": [
    "df['is_arrested'] = df['is_arrested'].astype(dtype=bool)     # changing the data type of df['is_arrested']"
   ]
  },
  {
   "cell_type": "code",
   "execution_count": 16,
   "id": "light-satin",
   "metadata": {},
   "outputs": [
    {
     "data": {
      "text/plain": [
       "dtype('bool')"
      ]
     },
     "execution_count": 16,
     "metadata": {},
     "output_type": "execute_result"
    }
   ],
   "source": [
    "df['is_arrested'].dtype                                      # checking the data dtype of df['is_arrested']"
   ]
  },
  {
   "cell_type": "markdown",
   "id": "expected-perception",
   "metadata": {},
   "source": [
    "***"
   ]
  },
  {
   "cell_type": "markdown",
   "id": "innovative-masters",
   "metadata": {},
   "source": [
    "The date and time of each traffic stops are currently stored in separate object columns: ``stop_date`` and ``stop_time``. We are going to combine these two columns into a single column and convert it to ``datetime`` format which will enable convenient date attributes that we are going to utilize for our analysis."
   ]
  },
  {
   "cell_type": "code",
   "execution_count": 17,
   "id": "polar-henry",
   "metadata": {},
   "outputs": [],
   "source": [
    "df['combined'] = df.stop_date.str.cat(df.stop_time, sep=' ') # combining df['stop_date'] and df['stop_time']"
   ]
  },
  {
   "cell_type": "code",
   "execution_count": 18,
   "id": "boring-coach",
   "metadata": {},
   "outputs": [],
   "source": [
    "df['stop_datetime'] = df.combined.astype(dtype='datetime64') # changing the data type"
   ]
  },
  {
   "cell_type": "code",
   "execution_count": 19,
   "id": "attended-welsh",
   "metadata": {
    "scrolled": true
   },
   "outputs": [
    {
     "data": {
      "text/plain": [
       "id                               object\n",
       "stop_date                        object\n",
       "stop_time                        object\n",
       "location_raw                     object\n",
       "county_fips                     float64\n",
       "fine_grained_location           float64\n",
       "police_department                object\n",
       "driver_gender                    object\n",
       "driver_age_raw                  float64\n",
       "driver_age                      float64\n",
       "driver_race_raw                  object\n",
       "driver_race                      object\n",
       "violation_raw                    object\n",
       "violation                        object\n",
       "search_conducted                 object\n",
       "search_type_raw                  object\n",
       "search_type                      object\n",
       "contraband_found                   bool\n",
       "stop_outcome                     object\n",
       "is_arrested                        bool\n",
       "stop_duration                    object\n",
       "out_of_state                     object\n",
       "drugs_related_stop                 bool\n",
       "district                         object\n",
       "combined                         object\n",
       "stop_datetime            datetime64[ns]\n",
       "dtype: object"
      ]
     },
     "execution_count": 19,
     "metadata": {},
     "output_type": "execute_result"
    }
   ],
   "source": [
    "df.dtypes                                                    # checking the data type"
   ]
  },
  {
   "cell_type": "markdown",
   "id": "forbidden-affiliation",
   "metadata": {},
   "source": [
    "***"
   ]
  },
  {
   "cell_type": "markdown",
   "id": "transsexual-island",
   "metadata": {},
   "source": [
    "Now that we combined date and time into a new column, we are going to set it as the new index of our data frame. This is going to allow us to analyze the dataset by date and time."
   ]
  },
  {
   "cell_type": "code",
   "execution_count": 20,
   "id": "starting-enterprise",
   "metadata": {},
   "outputs": [],
   "source": [
    "df.set_index('stop_datetime', inplace=True)                  # setting df['stop_datetime'] as index"
   ]
  },
  {
   "cell_type": "code",
   "execution_count": 21,
   "id": "sweet-burlington",
   "metadata": {},
   "outputs": [
    {
     "data": {
      "text/plain": [
       "DatetimeIndex(['2005-01-02 01:55:00', '2005-01-02 20:30:00',\n",
       "               '2005-01-04 12:55:00', '2005-01-06 01:30:00',\n",
       "               '2005-01-12 08:05:00', '2005-01-18 08:15:00',\n",
       "               '2005-01-18 17:13:00', '2005-01-23 23:15:00',\n",
       "               '2005-01-24 20:32:00', '2005-02-09 03:05:00',\n",
       "               ...\n",
       "               '2015-12-31 22:10:00', '2015-12-31 22:14:00',\n",
       "               '2015-12-31 22:26:00', '2015-12-31 22:38:00',\n",
       "               '2015-12-31 22:39:00', '2015-12-31 22:46:00',\n",
       "               '2015-12-31 22:47:00', '2015-12-31 23:08:00',\n",
       "               '2015-12-31 23:44:00', '2015-12-31 23:48:00'],\n",
       "              dtype='datetime64[ns]', name='stop_datetime', length=480584, freq=None)"
      ]
     },
     "execution_count": 21,
     "metadata": {},
     "output_type": "execute_result"
    }
   ],
   "source": [
    "df.index                                                     # checking the index"
   ]
  },
  {
   "cell_type": "markdown",
   "id": "equivalent-julian",
   "metadata": {},
   "source": [
    "***"
   ]
  },
  {
   "cell_type": "markdown",
   "id": "fewer-border",
   "metadata": {},
   "source": [
    "## Role of Gender in Traffic Stops <a class=\"anchor\" id=\"gender\"></a>"
   ]
  },
  {
   "cell_type": "markdown",
   "id": "superb-auction",
   "metadata": {},
   "source": [
    "In this part of our analysis, we are going to be exploring whether gender of a driver has an impact on police behavior during a traffic stop."
   ]
  },
  {
   "cell_type": "markdown",
   "id": "dependent-paris",
   "metadata": {},
   "source": [
    "### Examining Traffic Violations <a class=\"anchor\" id=\"violations\"></a>"
   ]
  },
  {
   "cell_type": "markdown",
   "id": "spiritual-wales",
   "metadata": {},
   "source": [
    "Before comparing the violations being committed by each gender, we are going to examine the violations column to get a baseline understanding of the data"
   ]
  },
  {
   "cell_type": "code",
   "execution_count": 22,
   "id": "alpine-latex",
   "metadata": {},
   "outputs": [
    {
     "data": {
      "text/plain": [
       "Speeding               268736\n",
       "Moving violation        90228\n",
       "Equipment               61250\n",
       "Other                   24216\n",
       "Registration/plates     19830\n",
       "Seat belt               16324\n",
       "Name: violation, dtype: int64"
      ]
     },
     "execution_count": 22,
     "metadata": {},
     "output_type": "execute_result"
    }
   ],
   "source": [
    "df.violation.value_counts()                            # violations that are being committed by all drivers"
   ]
  },
  {
   "cell_type": "code",
   "execution_count": 23,
   "id": "built-labor",
   "metadata": {},
   "outputs": [
    {
     "data": {
      "text/plain": [
       "Speeding               56.0\n",
       "Moving violation       19.0\n",
       "Equipment              13.0\n",
       "Other                   5.0\n",
       "Registration/plates     4.0\n",
       "Seat belt               3.0\n",
       "Name: violation, dtype: float64"
      ]
     },
     "execution_count": 23,
     "metadata": {},
     "output_type": "execute_result"
    }
   ],
   "source": [
    "((df.violation.value_counts() /\n",
    "  df.violation.value_counts().sum()) * 100).round()   # violation counts as proportions of the total"
   ]
  },
  {
   "cell_type": "markdown",
   "id": "naked-operation",
   "metadata": {},
   "source": [
    "### Comparing Violations by Gender <a class=\"anchor\" id=\"violationsbygender\"></a>"
   ]
  },
  {
   "cell_type": "markdown",
   "id": "finnish-rwanda",
   "metadata": {},
   "source": [
    "The question we're trying to answer is whether male and female drivers tend to commit different types of traffic violations."
   ]
  },
  {
   "cell_type": "code",
   "execution_count": 24,
   "id": "deadly-medicare",
   "metadata": {},
   "outputs": [],
   "source": [
    "female = df[df.driver_gender == \"F\"]                  # creating a data frame that only contains female drivers"
   ]
  },
  {
   "cell_type": "code",
   "execution_count": 25,
   "id": "central-portal",
   "metadata": {},
   "outputs": [
    {
     "data": {
      "text/plain": [
       "array(['F'], dtype=object)"
      ]
     },
     "execution_count": 25,
     "metadata": {},
     "output_type": "execute_result"
    }
   ],
   "source": [
    "female.driver_gender.unique()                         # checking the gender"
   ]
  },
  {
   "cell_type": "code",
   "execution_count": 26,
   "id": "chronic-exercise",
   "metadata": {},
   "outputs": [],
   "source": [
    "male = df[df.driver_gender == \"M\"]                    # creating a data frame that only contains male drivers"
   ]
  },
  {
   "cell_type": "code",
   "execution_count": 27,
   "id": "considerable-grove",
   "metadata": {},
   "outputs": [
    {
     "data": {
      "text/plain": [
       "array(['M'], dtype=object)"
      ]
     },
     "execution_count": 27,
     "metadata": {},
     "output_type": "execute_result"
    }
   ],
   "source": [
    "male.driver_gender.unique()                           # checking the gender"
   ]
  },
  {
   "cell_type": "code",
   "execution_count": 28,
   "id": "ecological-ecology",
   "metadata": {},
   "outputs": [
    {
     "data": {
      "text/plain": [
       "Speeding               66.0\n",
       "Moving violation       14.0\n",
       "Equipment              11.0\n",
       "Registration/plates     4.0\n",
       "Other                   3.0\n",
       "Seat belt               3.0\n",
       "Name: violation, dtype: float64"
      ]
     },
     "execution_count": 28,
     "metadata": {},
     "output_type": "execute_result"
    }
   ],
   "source": [
    "((female.violation.value_counts() /\n",
    "  female.violation.value_counts().sum()) * 100).round()\n",
    "\n",
    "                                                      # violations committed by female drivers as proportions"
   ]
  },
  {
   "cell_type": "code",
   "execution_count": 29,
   "id": "cooked-simulation",
   "metadata": {},
   "outputs": [
    {
     "data": {
      "text/plain": [
       "Speeding               52.0\n",
       "Moving violation       21.0\n",
       "Equipment              14.0\n",
       "Other                   6.0\n",
       "Registration/plates     4.0\n",
       "Seat belt               4.0\n",
       "Name: violation, dtype: float64"
      ]
     },
     "execution_count": 29,
     "metadata": {},
     "output_type": "execute_result"
    }
   ],
   "source": [
    "((male.violation.value_counts() / \n",
    "  male.violation.value_counts().sum()) * 100).round()\n",
    "\n",
    "                                                     # violations committed by male drivers as proportions"
   ]
  },
  {
   "cell_type": "markdown",
   "id": "worth-builder",
   "metadata": {},
   "source": [
    "### Comparing Speeding Outcomes by Gender <a class=\"anchor\" id=\"speedingbygender\"></a>"
   ]
  },
  {
   "cell_type": "markdown",
   "id": "necessary-inspiration",
   "metadata": {},
   "source": [
    "When a driver is pulled over for speeding, does the gender has an impact on whether the driver will receive a ticket or a warning?"
   ]
  },
  {
   "cell_type": "code",
   "execution_count": 30,
   "id": "brown-newark",
   "metadata": {},
   "outputs": [],
   "source": [
    "female_and_speeding = female[female.violation == \"Speeding\"]     # female drivers stopped for speeding"
   ]
  },
  {
   "cell_type": "code",
   "execution_count": 31,
   "id": "younger-search",
   "metadata": {},
   "outputs": [],
   "source": [
    "male_and_speeding = male[male.violation == \"Speeding\"]           # male drivers stopped for speeding"
   ]
  },
  {
   "cell_type": "code",
   "execution_count": 32,
   "id": "functional-framing",
   "metadata": {},
   "outputs": [
    {
     "data": {
      "text/plain": [
       "Citation            95.0\n",
       "Warning              4.0\n",
       "Arrest Driver        1.0\n",
       "Arrest Passenger     0.0\n",
       "N/D                  0.0\n",
       "No Action            0.0\n",
       "Name: stop_outcome, dtype: float64"
      ]
     },
     "execution_count": 32,
     "metadata": {},
     "output_type": "execute_result"
    }
   ],
   "source": [
    "((female_and_speeding.stop_outcome.value_counts() /\n",
    "  female_and_speeding.stop_outcome.value_counts().sum()) * 100).round()\n",
    "\n",
    "                                                                 # stop outcome for females"
   ]
  },
  {
   "cell_type": "code",
   "execution_count": 33,
   "id": "smaller-gnome",
   "metadata": {},
   "outputs": [
    {
     "data": {
      "text/plain": [
       "Citation            94.0\n",
       "Warning              4.0\n",
       "Arrest Driver        2.0\n",
       "Arrest Passenger     0.0\n",
       "N/D                  0.0\n",
       "No Action            0.0\n",
       "Name: stop_outcome, dtype: float64"
      ]
     },
     "execution_count": 33,
     "metadata": {},
     "output_type": "execute_result"
    }
   ],
   "source": [
    "((male_and_speeding.stop_outcome.value_counts() /\n",
    "  male_and_speeding.stop_outcome.value_counts().sum()) * 100).round()\n",
    "\n",
    "                                                                 # stop outcome for males"
   ]
  },
  {
   "cell_type": "markdown",
   "id": "challenging-italian",
   "metadata": {},
   "source": [
    "### Calculating the Search Rate <a class=\"anchor\" id=\"searchrate\"></a>"
   ]
  },
  {
   "cell_type": "markdown",
   "id": "second-notebook",
   "metadata": {},
   "source": [
    "During a traffic stop, the police officer sometimes conducts a search of the vehicle. We are going to calculate the percentage of all stops that result in a vehicle search, also known as the search rate."
   ]
  },
  {
   "cell_type": "code",
   "execution_count": 34,
   "id": "opening-cloud",
   "metadata": {},
   "outputs": [],
   "source": [
    "df['search_conducted'] = df.search_conducted.astype(bool)      # changing the data type to boolean"
   ]
  },
  {
   "cell_type": "code",
   "execution_count": 35,
   "id": "theoretical-thomas",
   "metadata": {},
   "outputs": [
    {
     "data": {
      "text/plain": [
       "False    96.0\n",
       "True      4.0\n",
       "Name: search_conducted, dtype: float64"
      ]
     },
     "execution_count": 35,
     "metadata": {},
     "output_type": "execute_result"
    }
   ],
   "source": [
    "((df.search_conducted.value_counts() /\n",
    "  df.search_conducted.value_counts().sum()) * 100).round()     # calculating the search rate by counting"
   ]
  },
  {
   "cell_type": "code",
   "execution_count": 36,
   "id": "assured-harvey",
   "metadata": {},
   "outputs": [
    {
     "data": {
      "text/plain": [
       "0.036959199640437465"
      ]
     },
     "execution_count": 36,
     "metadata": {},
     "output_type": "execute_result"
    }
   ],
   "source": [
    "df.search_conducted.mean()                                     # calculating the search rate by taking the mean"
   ]
  },
  {
   "cell_type": "markdown",
   "id": "medical-consent",
   "metadata": {},
   "source": [
    "### Comparing Search Rates by Gender <a class=\"anchor\" id=\"searchratebygender\"></a>"
   ]
  },
  {
   "cell_type": "markdown",
   "id": "authentic-longitude",
   "metadata": {},
   "source": [
    "We are going to compare the rates at which female and male drivers are searched during a traffic stop."
   ]
  },
  {
   "cell_type": "code",
   "execution_count": 37,
   "id": "bacterial-words",
   "metadata": {},
   "outputs": [
    {
     "data": {
      "text/plain": [
       "0.018751239152648355"
      ]
     },
     "execution_count": 37,
     "metadata": {},
     "output_type": "execute_result"
    }
   ],
   "source": [
    "female.search_conducted.mean()                       # calculating the search rate of female drivers"
   ]
  },
  {
   "cell_type": "code",
   "execution_count": 38,
   "id": "specified-morrison",
   "metadata": {},
   "outputs": [
    {
     "data": {
      "text/plain": [
       "0.04379217389811301"
      ]
     },
     "execution_count": 38,
     "metadata": {},
     "output_type": "execute_result"
    }
   ],
   "source": [
    "male.search_conducted.mean()                         # calculating the search rate of male drivers"
   ]
  },
  {
   "cell_type": "code",
   "execution_count": 39,
   "id": "regulation-discharge",
   "metadata": {},
   "outputs": [
    {
     "data": {
      "text/plain": [
       "driver_gender\n",
       "F    0.018751\n",
       "M    0.043792\n",
       "Name: search_conducted, dtype: float64"
      ]
     },
     "execution_count": 39,
     "metadata": {},
     "output_type": "execute_result"
    }
   ],
   "source": [
    "df.groupby('driver_gender').mean().search_conducted  # calculating the search rate by grouping by genders"
   ]
  },
  {
   "cell_type": "markdown",
   "id": "polished-algeria",
   "metadata": {},
   "source": [
    "### Adding a Second Factor to the Analysis <a class=\"anchor\" id=\"secondfactor\"></a>"
   ]
  },
  {
   "cell_type": "markdown",
   "id": "million-cosmetic",
   "metadata": {},
   "source": [
    "Even though the search rate for males is much higher than for females, it's possible that the difference is mostly due to a second factor. We could hypothesize that the search rate varies by violation type and the difference in search rate between males and females is because they tend to commit different violations. We are going to test this hypothesis by examining the search rate for each combination of gender and violation. If the hypothesis is true, we will to see that males and females are searched at about the same rate for each violation."
   ]
  },
  {
   "cell_type": "code",
   "execution_count": 40,
   "id": "dedicated-president",
   "metadata": {},
   "outputs": [
    {
     "data": {
      "text/plain": [
       "violation            driver_gender\n",
       "Equipment            F                0.040245\n",
       "                     M                0.070916\n",
       "Moving violation     F                0.038021\n",
       "                     M                0.059156\n",
       "Other                F                0.045898\n",
       "                     M                0.046120\n",
       "Registration/plates  F                0.054700\n",
       "                     M                0.103589\n",
       "Seat belt            F                0.017746\n",
       "                     M                0.031705\n",
       "Speeding             F                0.007738\n",
       "                     M                0.026630\n",
       "Name: search_conducted, dtype: float64"
      ]
     },
     "execution_count": 40,
     "metadata": {},
     "output_type": "execute_result"
    }
   ],
   "source": [
    "df.groupby(['violation', 'driver_gender']).mean().search_conducted\n",
    "\n",
    "                                    # calculating the search rate for each combination of gender and violation"
   ]
  },
  {
   "cell_type": "markdown",
   "id": "ready-houston",
   "metadata": {},
   "source": [
    "Since the search rates differ for each violation, we reject the hypothesis."
   ]
  },
  {
   "cell_type": "markdown",
   "id": "negative-leeds",
   "metadata": {},
   "source": [
    "### Counting Protective Frisks <a class=\"anchor\" id=\"frisk\"></a>"
   ]
  },
  {
   "cell_type": "markdown",
   "id": "bottom-belle",
   "metadata": {},
   "source": [
    "During a vehicle search, the police officer may pat down the driver to check if they have a weapon. This is known as a \"Protective Frisk.\" We are going to check to see how many times \"Protective Frisk\" was the only search type."
   ]
  },
  {
   "cell_type": "code",
   "execution_count": 41,
   "id": "occupied-female",
   "metadata": {},
   "outputs": [
    {
     "data": {
      "text/plain": [
       "Incident to Arrest                                          6998\n",
       "Probable Cause                                              4989\n",
       "Reasonable Suspicion                                        1141\n",
       "Inventory                                                   1101\n",
       "Protective Frisk                                             879\n",
       "Incident to Arrest,Inventory                                 649\n",
       "Incident to Arrest,Probable Cause                            552\n",
       "Probable Cause,Reasonable Suspicion                          334\n",
       "Probable Cause,Protective Frisk                              221\n",
       "Incident to Arrest,Protective Frisk                          158\n",
       "Incident to Arrest,Inventory,Probable Cause                  151\n",
       "Inventory,Probable Cause                                     132\n",
       "Protective Frisk,Reasonable Suspicion                         83\n",
       "Incident to Arrest,Inventory,Protective Frisk                 77\n",
       "Incident to Arrest,Probable Cause,Protective Frisk            74\n",
       "Inventory,Protective Frisk                                    52\n",
       "Incident to Arrest,Reasonable Suspicion                       49\n",
       "Probable Cause,Protective Frisk,Reasonable Suspicion          31\n",
       "Incident to Arrest,Probable Cause,Reasonable Suspicion        31\n",
       "Inventory,Reasonable Suspicion                                17\n",
       "Inventory,Probable Cause,Protective Frisk                     14\n",
       "Incident to Arrest,Inventory,Reasonable Suspicion             12\n",
       "Incident to Arrest,Protective Frisk,Reasonable Suspicion       8\n",
       "Inventory,Probable Cause,Reasonable Suspicion                  8\n",
       "Inventory,Protective Frisk,Reasonable Suspicion                1\n",
       "Name: search_type, dtype: int64"
      ]
     },
     "execution_count": 41,
     "metadata": {},
     "output_type": "execute_result"
    }
   ],
   "source": [
    "df.search_type.value_counts()                               # counting the search types"
   ]
  },
  {
   "cell_type": "code",
   "execution_count": 42,
   "id": "retired-albert",
   "metadata": {},
   "outputs": [],
   "source": [
    "df['frisk'] = df.search_type.str.contains('Protective Frisk')         \n",
    "\n",
    "                                                             # creating a column that only contains frisks"
   ]
  },
  {
   "cell_type": "code",
   "execution_count": 43,
   "id": "amino-palestine",
   "metadata": {},
   "outputs": [
    {
     "data": {
      "text/plain": [
       "dtype('O')"
      ]
     },
     "execution_count": 43,
     "metadata": {},
     "output_type": "execute_result"
    }
   ],
   "source": [
    "df['frisk'].dtype                                            # checking the data type"
   ]
  },
  {
   "cell_type": "code",
   "execution_count": 44,
   "id": "spoken-dollar",
   "metadata": {},
   "outputs": [
    {
     "data": {
      "text/plain": [
       "1598"
      ]
     },
     "execution_count": 44,
     "metadata": {},
     "output_type": "execute_result"
    }
   ],
   "source": [
    "df['frisk'].sum()                                            # taking the sum of df['frisk']"
   ]
  },
  {
   "cell_type": "code",
   "execution_count": 45,
   "id": "clean-hampton",
   "metadata": {},
   "outputs": [],
   "source": [
    "df['frisk'] = df.frisk.astype(bool)"
   ]
  },
  {
   "cell_type": "markdown",
   "id": "developed-magazine",
   "metadata": {},
   "source": [
    "### Comparing Frisk Rates by Gender <a class=\"anchor\" id=\"friskbygender\"></a>"
   ]
  },
  {
   "cell_type": "markdown",
   "id": "confirmed-syndicate",
   "metadata": {},
   "source": [
    "We are going to compare the rates at which female and male drivers are frisked during a search. Are males frisked more often than females, perhaps because police officers consider them to be higher risk?"
   ]
  },
  {
   "cell_type": "code",
   "execution_count": 46,
   "id": "ready-display",
   "metadata": {},
   "outputs": [],
   "source": [
    "searched = df[df.search_conducted == True]        # creating a data frame that only contains conducted searches"
   ]
  },
  {
   "cell_type": "code",
   "execution_count": 47,
   "id": "floral-level",
   "metadata": {},
   "outputs": [
    {
     "data": {
      "text/plain": [
       "0.08996734601959239"
      ]
     },
     "execution_count": 47,
     "metadata": {},
     "output_type": "execute_result"
    }
   ],
   "source": [
    "searched['frisk'].mean()                          # percentage of searches included a frisk"
   ]
  },
  {
   "cell_type": "code",
   "execution_count": 48,
   "id": "heavy-marble",
   "metadata": {},
   "outputs": [
    {
     "data": {
      "text/plain": [
       "driver_gender\n",
       "F    0.066694\n",
       "M    0.093707\n",
       "Name: frisk, dtype: float64"
      ]
     },
     "execution_count": 48,
     "metadata": {},
     "output_type": "execute_result"
    }
   ],
   "source": [
    "searched.groupby('driver_gender').mean().frisk    # frisk rate by gender"
   ]
  },
  {
   "cell_type": "code",
   "execution_count": 49,
   "id": "going-jason",
   "metadata": {},
   "outputs": [
    {
     "data": {
      "text/plain": [
       "driver_gender\n",
       "F         NaN\n",
       "M    0.405035\n",
       "Name: frisk, dtype: float64"
      ]
     },
     "execution_count": 49,
     "metadata": {},
     "output_type": "execute_result"
    }
   ],
   "source": [
    "searched.groupby('driver_gender').mean().frisk.pct_change() \n",
    "\n",
    "                                                  # percentage difference of genders"
   ]
  },
  {
   "cell_type": "markdown",
   "id": "actual-delay",
   "metadata": {},
   "source": [
    "***"
   ]
  },
  {
   "cell_type": "markdown",
   "id": "textile-child",
   "metadata": {},
   "source": [
    "## Are people more likely to get arrested at a certain time of the day? <a class=\"anchor\" id=\"uhrzeit\"></a>"
   ]
  },
  {
   "cell_type": "markdown",
   "id": "composite-mattress",
   "metadata": {},
   "source": [
    "### Calculating the Hourly Arrest Rate  <a class=\"anchor\" id=\"hourlyarrestrate\"></a>"
   ]
  },
  {
   "cell_type": "markdown",
   "id": "exceptional-maryland",
   "metadata": {},
   "source": [
    "When a police officer stops a driver, a small percentage of those stops ends in an arrest. This is known as the arrest rate. We are going to find out whether the arrest rate varies by the time of the day."
   ]
  },
  {
   "cell_type": "code",
   "execution_count": 50,
   "id": "undefined-position",
   "metadata": {},
   "outputs": [
    {
     "data": {
      "text/plain": [
       "0.03454755048024903"
      ]
     },
     "execution_count": 50,
     "metadata": {},
     "output_type": "execute_result"
    }
   ],
   "source": [
    "df.is_arrested.mean()                            # calculating the overall arrest rate"
   ]
  },
  {
   "cell_type": "code",
   "execution_count": 51,
   "id": "valuable-collar",
   "metadata": {},
   "outputs": [
    {
     "data": {
      "text/plain": [
       "stop_datetime\n",
       "0     0.052151\n",
       "1     0.067127\n",
       "2     0.061067\n",
       "3     0.052613\n",
       "4     0.053897\n",
       "5     0.032657\n",
       "6     0.012949\n",
       "7     0.013829\n",
       "8     0.019717\n",
       "9     0.024699\n",
       "10    0.025583\n",
       "11    0.027078\n",
       "12    0.031361\n",
       "13    0.030250\n",
       "14    0.031531\n",
       "15    0.032125\n",
       "16    0.033519\n",
       "17    0.038989\n",
       "18    0.039902\n",
       "19    0.031366\n",
       "20    0.039292\n",
       "21    0.059956\n",
       "22    0.043980\n",
       "23    0.045087\n",
       "Name: is_arrested, dtype: float64"
      ]
     },
     "execution_count": 51,
     "metadata": {},
     "output_type": "execute_result"
    }
   ],
   "source": [
    "df.groupby(df.index.hour).mean().is_arrested     # calculating the hourly arrest rate"
   ]
  },
  {
   "cell_type": "markdown",
   "id": "approved-baghdad",
   "metadata": {},
   "source": [
    "### Plotting the Hourly Arrest Rate <a class=\"anchor\" id=\"hourlyarrestrateplot\"></a>"
   ]
  },
  {
   "cell_type": "code",
   "execution_count": 52,
   "id": "crazy-miami",
   "metadata": {},
   "outputs": [],
   "source": [
    "hourly_arrest_rate = df.groupby(df.index.hour).mean().is_arrested"
   ]
  },
  {
   "cell_type": "code",
   "execution_count": 53,
   "id": "noted-bridges",
   "metadata": {},
   "outputs": [
    {
     "data": {
      "image/png": "[encoded data removed]",
      "text/plain": [
       "<Figure size 432x288 with 1 Axes>"
      ]
     },
     "metadata": {
      "needs_background": "light"
     },
     "output_type": "display_data"
    }
   ],
   "source": [
    "plt.plot(hourly_arrest_rate)\n",
    "\n",
    "plt.xlabel('Hour')                                 # setting the x label\n",
    "\n",
    "plt.ylabel('Arrest Rate')                          # setting the y label\n",
    "\n",
    "plt.title('Arrest Rate by the Time of the Day')    # setting the titel\n",
    "\n",
    "plt.show()"
   ]
  },
  {
   "cell_type": "markdown",
   "id": "piano-edwards",
   "metadata": {},
   "source": [
    "It can be seen that people are more likely to get arrested at night."
   ]
  },
  {
   "cell_type": "markdown",
   "id": "gorgeous-spirituality",
   "metadata": {},
   "source": [
    "***"
   ]
  },
  {
   "cell_type": "markdown",
   "id": "saved-measure",
   "metadata": {},
   "source": [
    "## Drug-Related Stops<a class=\"anchor\" id=\"drug\"></a>"
   ]
  },
  {
   "cell_type": "markdown",
   "id": "seasonal-enhancement",
   "metadata": {},
   "source": [
    "### Plotting Drug-Related Stops<a class=\"anchor\" id=\"drugstops\"></a>"
   ]
  },
  {
   "cell_type": "markdown",
   "id": "ideal-charleston",
   "metadata": {},
   "source": [
    "In a small portion of traffic stops, drugs are found in the vehicle during a search. We are going to assess whether these drug-related stops are becoming more common over time."
   ]
  },
  {
   "cell_type": "code",
   "execution_count": 54,
   "id": "another-bible",
   "metadata": {},
   "outputs": [
    {
     "data": {
      "text/plain": [
       "stop_datetime\n",
       "2005-12-31    0.008038\n",
       "2006-12-31    0.006624\n",
       "2007-12-31    0.008437\n",
       "2008-12-31    0.007549\n",
       "2009-12-31    0.010447\n",
       "2010-12-31    0.010142\n",
       "2011-12-31    0.011400\n",
       "2012-12-31    0.010343\n",
       "2013-12-31    0.011879\n",
       "2014-12-31    0.013176\n",
       "2015-12-31    0.010598\n",
       "Freq: A-DEC, Name: drugs_related_stop, dtype: float64"
      ]
     },
     "execution_count": 54,
     "metadata": {},
     "output_type": "execute_result"
    }
   ],
   "source": [
    "df.drugs_related_stop.resample(\"A\").mean()               # calculating the annual rate of drug-relatted stops"
   ]
  },
  {
   "cell_type": "code",
   "execution_count": 55,
   "id": "sustained-registration",
   "metadata": {},
   "outputs": [],
   "source": [
    "annual_drug_rate = df.drugs_related_stop.resample(\"A\").mean()"
   ]
  },
  {
   "cell_type": "code",
   "execution_count": 56,
   "id": "lesbian-relations",
   "metadata": {},
   "outputs": [
    {
     "data": {
      "image/png": "[encoded data removed]",
      "text/plain": [
       "<Figure size 432x288 with 1 Axes>"
      ]
     },
     "metadata": {
      "needs_background": "light"
     },
     "output_type": "display_data"
    }
   ],
   "source": [
    "plt.plot(annual_drug_rate)                              # plotting annual drug rate\n",
    "\n",
    "plt.show()"
   ]
  },
  {
   "cell_type": "markdown",
   "id": "expanded-arizona",
   "metadata": {},
   "source": [
    "### Comparing Drug and Search Rates<a class=\"anchor\" id=\"drugandsearchrate\"></a>"
   ]
  },
  {
   "cell_type": "markdown",
   "id": "flexible-serbia",
   "metadata": {},
   "source": [
    "As we saw, the rate of drug-related stops increased significantly between 2005 and 2015. We could hypothesize that the rate of vehicle searches was also increasing, which would have led to an increase in drug-related stops even if more drivers were not carrying drugs.\n",
    "\n",
    "We are going to test this hypothesis by calculating the annual search rate and then plotting it against the annual drug rate."
   ]
  },
  {
   "cell_type": "code",
   "execution_count": 57,
   "id": "intended-potter",
   "metadata": {},
   "outputs": [
    {
     "data": {
      "text/plain": [
       "stop_datetime\n",
       "2005-12-31    0.050692\n",
       "2006-12-31    0.037748\n",
       "2007-12-31    0.041844\n",
       "2008-12-31    0.039544\n",
       "2009-12-31    0.049849\n",
       "2010-12-31    0.042089\n",
       "2011-12-31    0.037767\n",
       "2012-12-31    0.032278\n",
       "2013-12-31    0.029054\n",
       "2014-12-31    0.030157\n",
       "2015-12-31    0.027832\n",
       "Freq: A-DEC, Name: search_conducted, dtype: float64"
      ]
     },
     "execution_count": 57,
     "metadata": {},
     "output_type": "execute_result"
    }
   ],
   "source": [
    "df.search_conducted.resample('A').mean()              # calculating the annual search rate"
   ]
  },
  {
   "cell_type": "code",
   "execution_count": 58,
   "id": "corrected-settle",
   "metadata": {},
   "outputs": [],
   "source": [
    "annual_search_rate = df.search_conducted.resample('A').mean()"
   ]
  },
  {
   "cell_type": "code",
   "execution_count": 59,
   "id": "integral-smile",
   "metadata": {},
   "outputs": [],
   "source": [
    "annual = pd.concat([annual_drug_rate, annual_search_rate], axis=1)\n",
    "\n",
    "                                                      # concatenating annual drug rate and annual search rate"
   ]
  },
  {
   "cell_type": "code",
   "execution_count": 60,
   "id": "august-lightweight",
   "metadata": {},
   "outputs": [
    {
     "data": {
      "image/png": "[encoded data removed]",
      "text/plain": [
       "<Figure size 720x720 with 2 Axes>"
      ]
     },
     "metadata": {
      "needs_background": "light"
     },
     "output_type": "display_data"
    }
   ],
   "source": [
    "fig, (ax1, ax2) = plt.subplots(2)\n",
    "\n",
    "fig.set_size_inches(10, 10)                           # setting the figure size\n",
    "\n",
    "fig.suptitle('Comparison of drug rates and search rates')\n",
    "\n",
    "\n",
    "ax1.plot(annual_drug_rate)\n",
    "ax1.set_title('Annual drug rate')\n",
    "\n",
    "\n",
    "ax2.plot(annual_search_rate)\n",
    "ax2.set_title('Annual search rate')\n",
    "\n",
    "\n",
    "plt.show()"
   ]
  },
  {
   "cell_type": "markdown",
   "id": "minor-mongolia",
   "metadata": {},
   "source": [
    "Both annual drug rate and annual search rate are not increasing over time. Therefore we reject the hypothesis."
   ]
  },
  {
   "cell_type": "markdown",
   "id": "center-strategy",
   "metadata": {},
   "source": [
    "***"
   ]
  },
  {
   "cell_type": "markdown",
   "id": "small-invite",
   "metadata": {},
   "source": [
    "## Police District Comparison<a class=\"anchor\" id=\"district\"></a>"
   ]
  },
  {
   "cell_type": "markdown",
   "id": "comparable-mistake",
   "metadata": {},
   "source": [
    "The state of Rhode Island is broken into six police districts, also known as zones. We are going to explore how the zones compare in terms of what violations are caught by police."
   ]
  },
  {
   "cell_type": "code",
   "execution_count": 61,
   "id": "patient-binding",
   "metadata": {},
   "outputs": [
    {
     "data": {
      "text/html": [
       "<div>\n",
       "<style scoped>\n",
       "    .dataframe tbody tr th:only-of-type {\n",
       "        vertical-align: middle;\n",
       "    }\n",
       "\n",
       "    .dataframe tbody tr th {\n",
       "        vertical-align: top;\n",
       "    }\n",
       "\n",
       "    .dataframe thead th {\n",
       "        text-align: right;\n",
       "    }\n",
       "</style>\n",
       "<table border=\"1\" class=\"dataframe\">\n",
       "  <thead>\n",
       "    <tr style=\"text-align: right;\">\n",
       "      <th>violation</th>\n",
       "      <th>Equipment</th>\n",
       "      <th>Moving violation</th>\n",
       "      <th>Other</th>\n",
       "      <th>Registration/plates</th>\n",
       "      <th>Seat belt</th>\n",
       "      <th>Speeding</th>\n",
       "    </tr>\n",
       "    <tr>\n",
       "      <th>district</th>\n",
       "      <th></th>\n",
       "      <th></th>\n",
       "      <th></th>\n",
       "      <th></th>\n",
       "      <th></th>\n",
       "      <th></th>\n",
       "    </tr>\n",
       "  </thead>\n",
       "  <tbody>\n",
       "    <tr>\n",
       "      <th>Zone K1</th>\n",
       "      <td>3786</td>\n",
       "      <td>7127</td>\n",
       "      <td>1501</td>\n",
       "      <td>628</td>\n",
       "      <td>1</td>\n",
       "      <td>33067</td>\n",
       "    </tr>\n",
       "    <tr>\n",
       "      <th>Zone K2</th>\n",
       "      <td>11285</td>\n",
       "      <td>16440</td>\n",
       "      <td>5103</td>\n",
       "      <td>4056</td>\n",
       "      <td>2897</td>\n",
       "      <td>57500</td>\n",
       "    </tr>\n",
       "    <tr>\n",
       "      <th>Zone K3</th>\n",
       "      <td>12959</td>\n",
       "      <td>16218</td>\n",
       "      <td>3926</td>\n",
       "      <td>3871</td>\n",
       "      <td>3660</td>\n",
       "      <td>68234</td>\n",
       "    </tr>\n",
       "    <tr>\n",
       "      <th>Zone X1</th>\n",
       "      <td>1725</td>\n",
       "      <td>3711</td>\n",
       "      <td>752</td>\n",
       "      <td>192</td>\n",
       "      <td>451</td>\n",
       "      <td>6393</td>\n",
       "    </tr>\n",
       "    <tr>\n",
       "      <th>Zone X3</th>\n",
       "      <td>11520</td>\n",
       "      <td>17178</td>\n",
       "      <td>4069</td>\n",
       "      <td>3532</td>\n",
       "      <td>4445</td>\n",
       "      <td>48687</td>\n",
       "    </tr>\n",
       "    <tr>\n",
       "      <th>Zone X4</th>\n",
       "      <td>19975</td>\n",
       "      <td>29554</td>\n",
       "      <td>8865</td>\n",
       "      <td>7551</td>\n",
       "      <td>4870</td>\n",
       "      <td>54855</td>\n",
       "    </tr>\n",
       "  </tbody>\n",
       "</table>\n",
       "</div>"
      ],
      "text/plain": [
       "violation  Equipment  Moving violation  Other  Registration/plates  Seat belt  \\\n",
       "district                                                                        \n",
       "Zone K1         3786              7127   1501                  628          1   \n",
       "Zone K2        11285             16440   5103                 4056       2897   \n",
       "Zone K3        12959             16218   3926                 3871       3660   \n",
       "Zone X1         1725              3711    752                  192        451   \n",
       "Zone X3        11520             17178   4069                 3532       4445   \n",
       "Zone X4        19975             29554   8865                 7551       4870   \n",
       "\n",
       "violation  Speeding  \n",
       "district             \n",
       "Zone K1       33067  \n",
       "Zone K2       57500  \n",
       "Zone K3       68234  \n",
       "Zone X1        6393  \n",
       "Zone X3       48687  \n",
       "Zone X4       54855  "
      ]
     },
     "execution_count": 61,
     "metadata": {},
     "output_type": "execute_result"
    }
   ],
   "source": [
    "pd.crosstab(df.district, df.violation)                        # creating a frequency table"
   ]
  },
  {
   "cell_type": "code",
   "execution_count": 62,
   "id": "phantom-healthcare",
   "metadata": {},
   "outputs": [],
   "source": [
    "all_zones = pd.crosstab(df.district, df.violation)"
   ]
  },
  {
   "cell_type": "code",
   "execution_count": 63,
   "id": "complete-arbitration",
   "metadata": {},
   "outputs": [
    {
     "data": {
      "text/html": [
       "<div>\n",
       "<style scoped>\n",
       "    .dataframe tbody tr th:only-of-type {\n",
       "        vertical-align: middle;\n",
       "    }\n",
       "\n",
       "    .dataframe tbody tr th {\n",
       "        vertical-align: top;\n",
       "    }\n",
       "\n",
       "    .dataframe thead th {\n",
       "        text-align: right;\n",
       "    }\n",
       "</style>\n",
       "<table border=\"1\" class=\"dataframe\">\n",
       "  <thead>\n",
       "    <tr style=\"text-align: right;\">\n",
       "      <th>violation</th>\n",
       "      <th>Equipment</th>\n",
       "      <th>Moving violation</th>\n",
       "      <th>Other</th>\n",
       "      <th>Registration/plates</th>\n",
       "      <th>Seat belt</th>\n",
       "      <th>Speeding</th>\n",
       "    </tr>\n",
       "    <tr>\n",
       "      <th>district</th>\n",
       "      <th></th>\n",
       "      <th></th>\n",
       "      <th></th>\n",
       "      <th></th>\n",
       "      <th></th>\n",
       "      <th></th>\n",
       "    </tr>\n",
       "  </thead>\n",
       "  <tbody>\n",
       "    <tr>\n",
       "      <th>Zone K1</th>\n",
       "      <td>3786</td>\n",
       "      <td>7127</td>\n",
       "      <td>1501</td>\n",
       "      <td>628</td>\n",
       "      <td>1</td>\n",
       "      <td>33067</td>\n",
       "    </tr>\n",
       "    <tr>\n",
       "      <th>Zone K2</th>\n",
       "      <td>11285</td>\n",
       "      <td>16440</td>\n",
       "      <td>5103</td>\n",
       "      <td>4056</td>\n",
       "      <td>2897</td>\n",
       "      <td>57500</td>\n",
       "    </tr>\n",
       "    <tr>\n",
       "      <th>Zone K3</th>\n",
       "      <td>12959</td>\n",
       "      <td>16218</td>\n",
       "      <td>3926</td>\n",
       "      <td>3871</td>\n",
       "      <td>3660</td>\n",
       "      <td>68234</td>\n",
       "    </tr>\n",
       "  </tbody>\n",
       "</table>\n",
       "</div>"
      ],
      "text/plain": [
       "violation  Equipment  Moving violation  Other  Registration/plates  Seat belt  \\\n",
       "district                                                                        \n",
       "Zone K1         3786              7127   1501                  628          1   \n",
       "Zone K2        11285             16440   5103                 4056       2897   \n",
       "Zone K3        12959             16218   3926                 3871       3660   \n",
       "\n",
       "violation  Speeding  \n",
       "district             \n",
       "Zone K1       33067  \n",
       "Zone K2       57500  \n",
       "Zone K3       68234  "
      ]
     },
     "execution_count": 63,
     "metadata": {},
     "output_type": "execute_result"
    }
   ],
   "source": [
    "all_zones.loc['Zone K1' : 'Zone K3']                         # selecting k zones"
   ]
  },
  {
   "cell_type": "code",
   "execution_count": 64,
   "id": "cooperative-reporter",
   "metadata": {},
   "outputs": [],
   "source": [
    "k_zones = all_zones.loc['Zone K1' : 'Zone K3']"
   ]
  },
  {
   "cell_type": "markdown",
   "id": "greater-trauma",
   "metadata": {},
   "source": [
    "### Plotting Violations by District <a class=\"anchor\" id=\"districtplot\"></a>"
   ]
  },
  {
   "cell_type": "code",
   "execution_count": 65,
   "id": "objective-boring",
   "metadata": {},
   "outputs": [
    {
     "data": {
      "image/png": "[encoded data removed]",
      "text/plain": [
       "<Figure size 432x288 with 1 Axes>"
      ]
     },
     "metadata": {
      "needs_background": "light"
     },
     "output_type": "display_data"
    }
   ],
   "source": [
    "k_zones.plot.bar()                                           # creating a bar plot\n",
    "\n",
    "plt.show()"
   ]
  },
  {
   "cell_type": "code",
   "execution_count": 66,
   "id": "printable-gamma",
   "metadata": {
    "scrolled": true
   },
   "outputs": [
    {
     "data": {
      "image/png": "[encoded data removed]",
      "text/plain": [
       "<Figure size 432x288 with 1 Axes>"
      ]
     },
     "metadata": {
      "needs_background": "light"
     },
     "output_type": "display_data"
    }
   ],
   "source": [
    "k_zones.plot.bar(stacked=True)                               # creating a stacked bar plot\n",
    "\n",
    "plt.show()"
   ]
  },
  {
   "cell_type": "markdown",
   "id": "unable-peeing",
   "metadata": {},
   "source": [
    "***"
   ]
  },
  {
   "cell_type": "markdown",
   "id": "mathematical-incentive",
   "metadata": {},
   "source": [
    "## Stop Length <a class=\"anchor\" id=\"stoplength\"></a>"
   ]
  },
  {
   "cell_type": "markdown",
   "id": "naked-finding",
   "metadata": {},
   "source": [
    "If you were stopped for a particular violation, how long might you expect to be detained?"
   ]
  },
  {
   "cell_type": "code",
   "execution_count": 67,
   "id": "practical-allen",
   "metadata": {},
   "outputs": [
    {
     "data": {
      "text/plain": [
       "array(['0-15 Min', '16-30 Min', '30+ Min', '2', '1'], dtype=object)"
      ]
     },
     "execution_count": 67,
     "metadata": {},
     "output_type": "execute_result"
    }
   ],
   "source": [
    "df.stop_duration.unique()                                    # unique values in df['stop_duration']"
   ]
  },
  {
   "cell_type": "code",
   "execution_count": 68,
   "id": "starting-destiny",
   "metadata": {},
   "outputs": [],
   "source": [
    "mapping = {'0-15 Min' : 8,                                   # creating a mapping dictionary\n",
    "           '16-30 Min' : 23,\n",
    "           '30+ Min' : 45,\n",
    "           '2' : 2,\n",
    "           '1' : 1}"
   ]
  },
  {
   "cell_type": "code",
   "execution_count": 69,
   "id": "prescribed-canon",
   "metadata": {},
   "outputs": [],
   "source": [
    "df['stop_minutes'] = df.stop_duration.map(mapping)           # converting strings to integers using mapping"
   ]
  },
  {
   "cell_type": "code",
   "execution_count": 70,
   "id": "needed-ceremony",
   "metadata": {},
   "outputs": [
    {
     "data": {
      "text/plain": [
       "array([ 8, 23, 45,  2,  1], dtype=int64)"
      ]
     },
     "execution_count": 70,
     "metadata": {},
     "output_type": "execute_result"
    }
   ],
   "source": [
    "df['stop_minutes'].unique()                                  # checking unique values"
   ]
  },
  {
   "cell_type": "markdown",
   "id": "shaped-blast",
   "metadata": {},
   "source": [
    "### Plotting Stop Length<a class=\"anchor\" id=\"stoplengthplot\"></a>"
   ]
  },
  {
   "cell_type": "code",
   "execution_count": 71,
   "id": "serious-identification",
   "metadata": {},
   "outputs": [
    {
     "data": {
      "text/plain": [
       "violation_raw\n",
       "APB                                 18.593814\n",
       "Call for Service                    21.963314\n",
       "Equipment/Inspection Violation      11.454155\n",
       "Motorist Assist/Courtesy            17.629929\n",
       "Other Traffic Violation             13.833943\n",
       "Registration Violation              13.543268\n",
       "Seatbelt Violation                   9.698236\n",
       "Special Detail/Directed Patrol      14.876778\n",
       "Speeding                            10.589143\n",
       "Suspicious Person                   18.374269\n",
       "Violation of City/Town Ordinance    13.230695\n",
       "Warrant                             19.769231\n",
       "Name: stop_minutes, dtype: float64"
      ]
     },
     "execution_count": 71,
     "metadata": {},
     "output_type": "execute_result"
    }
   ],
   "source": [
    "df.groupby('violation_raw').mean().stop_minutes      # calculating the mean number of stop lengths by violation"
   ]
  },
  {
   "cell_type": "code",
   "execution_count": 72,
   "id": "recent-support",
   "metadata": {},
   "outputs": [],
   "source": [
    "stop_length = df.groupby('violation_raw').mean().stop_minutes"
   ]
  },
  {
   "cell_type": "code",
   "execution_count": 73,
   "id": "level-zealand",
   "metadata": {},
   "outputs": [],
   "source": [
    "stop_length = stop_length.sort_values()              # sorting the values"
   ]
  },
  {
   "cell_type": "code",
   "execution_count": 74,
   "id": "distributed-mercy",
   "metadata": {},
   "outputs": [
    {
     "data": {
      "image/png": "[encoded data removed]",
      "text/plain": [
       "<Figure size 432x288 with 1 Axes>"
      ]
     },
     "metadata": {
      "needs_background": "light"
     },
     "output_type": "display_data"
    }
   ],
   "source": [
    "plt.barh(stop_length.index, stop_length)\n",
    "\n",
    "plt.show()"
   ]
  },
  {
   "cell_type": "markdown",
   "id": "usual-buddy",
   "metadata": {},
   "source": [
    "***"
   ]
  },
  {
   "cell_type": "markdown",
   "id": "nonprofit-spyware",
   "metadata": {},
   "source": [
    "## Impact of Weather Conditions on Police Behavior<a class=\"anchor\" id=\"weather\"></a>"
   ]
  },
  {
   "cell_type": "markdown",
   "id": "homeless-middle",
   "metadata": {},
   "source": [
    "We are going to examine the temperature columns from the weather dataset to assess whether the data seems trustworthy."
   ]
  },
  {
   "cell_type": "code",
   "execution_count": 75,
   "id": "focal-stress",
   "metadata": {},
   "outputs": [],
   "source": [
    "weather = pd.read_csv('weather.csv')                    # retrieving weather dataset"
   ]
  },
  {
   "cell_type": "code",
   "execution_count": 76,
   "id": "bearing-memorabilia",
   "metadata": {},
   "outputs": [
    {
     "data": {
      "text/html": [
       "<div>\n",
       "<style scoped>\n",
       "    .dataframe tbody tr th:only-of-type {\n",
       "        vertical-align: middle;\n",
       "    }\n",
       "\n",
       "    .dataframe tbody tr th {\n",
       "        vertical-align: top;\n",
       "    }\n",
       "\n",
       "    .dataframe thead th {\n",
       "        text-align: right;\n",
       "    }\n",
       "</style>\n",
       "<table border=\"1\" class=\"dataframe\">\n",
       "  <thead>\n",
       "    <tr style=\"text-align: right;\">\n",
       "      <th></th>\n",
       "      <th>TMIN</th>\n",
       "      <th>TAVG</th>\n",
       "      <th>TMAX</th>\n",
       "    </tr>\n",
       "  </thead>\n",
       "  <tbody>\n",
       "    <tr>\n",
       "      <th>count</th>\n",
       "      <td>7996.000000</td>\n",
       "      <td>1217.000000</td>\n",
       "      <td>8005.000000</td>\n",
       "    </tr>\n",
       "    <tr>\n",
       "      <th>mean</th>\n",
       "      <td>42.099425</td>\n",
       "      <td>52.493016</td>\n",
       "      <td>61.247096</td>\n",
       "    </tr>\n",
       "    <tr>\n",
       "      <th>std</th>\n",
       "      <td>17.386667</td>\n",
       "      <td>17.829792</td>\n",
       "      <td>18.495043</td>\n",
       "    </tr>\n",
       "    <tr>\n",
       "      <th>min</th>\n",
       "      <td>-10.000000</td>\n",
       "      <td>6.000000</td>\n",
       "      <td>13.000000</td>\n",
       "    </tr>\n",
       "    <tr>\n",
       "      <th>25%</th>\n",
       "      <td>29.000000</td>\n",
       "      <td>39.000000</td>\n",
       "      <td>46.000000</td>\n",
       "    </tr>\n",
       "    <tr>\n",
       "      <th>50%</th>\n",
       "      <td>42.000000</td>\n",
       "      <td>54.000000</td>\n",
       "      <td>62.000000</td>\n",
       "    </tr>\n",
       "    <tr>\n",
       "      <th>75%</th>\n",
       "      <td>57.000000</td>\n",
       "      <td>68.000000</td>\n",
       "      <td>77.000000</td>\n",
       "    </tr>\n",
       "    <tr>\n",
       "      <th>max</th>\n",
       "      <td>77.000000</td>\n",
       "      <td>86.000000</td>\n",
       "      <td>102.000000</td>\n",
       "    </tr>\n",
       "  </tbody>\n",
       "</table>\n",
       "</div>"
      ],
      "text/plain": [
       "              TMIN         TAVG         TMAX\n",
       "count  7996.000000  1217.000000  8005.000000\n",
       "mean     42.099425    52.493016    61.247096\n",
       "std      17.386667    17.829792    18.495043\n",
       "min     -10.000000     6.000000    13.000000\n",
       "25%      29.000000    39.000000    46.000000\n",
       "50%      42.000000    54.000000    62.000000\n",
       "75%      57.000000    68.000000    77.000000\n",
       "max      77.000000    86.000000   102.000000"
      ]
     },
     "execution_count": 76,
     "metadata": {},
     "output_type": "execute_result"
    }
   ],
   "source": [
    "weather[['TMIN', 'TAVG', 'TMAX']].describe()            # descriptive statistics"
   ]
  },
  {
   "cell_type": "markdown",
   "id": "visible-collective",
   "metadata": {},
   "source": [
    "### Plotting the Temperature<a class=\"anchor\" id=\"tempplot\"></a>"
   ]
  },
  {
   "cell_type": "code",
   "execution_count": 77,
   "id": "integral-audience",
   "metadata": {},
   "outputs": [
    {
     "data": {
      "image/png": "[encoded data removed]",
      "text/plain": [
       "<Figure size 432x288 with 1 Axes>"
      ]
     },
     "metadata": {
      "needs_background": "light"
     },
     "output_type": "display_data"
    }
   ],
   "source": [
    "weather[['TMIN', 'TAVG', 'TMAX']].plot.box()            # plotting min, max and avg temperatures\n",
    "\n",
    "plt.show()"
   ]
  },
  {
   "cell_type": "markdown",
   "id": "coordinate-spectacular",
   "metadata": {},
   "source": [
    "### Plotting the Temperature Difference<a class=\"anchor\" id=\"tempplotdiff\"></a>"
   ]
  },
  {
   "cell_type": "markdown",
   "id": "ahead-learning",
   "metadata": {},
   "source": [
    "We are going to continue to assess whether the dataset seems trustworthy by plotting the difference between the maximum and minimum temperatures."
   ]
  },
  {
   "cell_type": "code",
   "execution_count": 78,
   "id": "reflected-brake",
   "metadata": {},
   "outputs": [],
   "source": [
    "weather['TDIFF'] = weather['TMAX'] - weather['TMIN']\n",
    "\n",
    "                # creating a column that represents the difference between the maximum and minimum temperatures"
   ]
  },
  {
   "cell_type": "code",
   "execution_count": 79,
   "id": "swiss-reset",
   "metadata": {},
   "outputs": [
    {
     "data": {
      "text/plain": [
       "count    7994.000000\n",
       "mean       19.149237\n",
       "std         7.009716\n",
       "min       -25.000000\n",
       "25%        14.000000\n",
       "50%        19.000000\n",
       "75%        24.000000\n",
       "max        48.000000\n",
       "Name: TDIFF, dtype: float64"
      ]
     },
     "execution_count": 79,
     "metadata": {},
     "output_type": "execute_result"
    }
   ],
   "source": [
    "weather.TDIFF.describe()\n",
    "\n",
    "                # generating descriptive statistics"
   ]
  },
  {
   "cell_type": "code",
   "execution_count": 80,
   "id": "worth-shield",
   "metadata": {},
   "outputs": [
    {
     "data": {
      "image/png": "[encoded data removed]",
      "text/plain": [
       "<Figure size 432x288 with 1 Axes>"
      ]
     },
     "metadata": {
      "needs_background": "light"
     },
     "output_type": "display_data"
    }
   ],
   "source": [
    "weather['TDIFF'].hist(bins=20)\n",
    "\n",
    "plt.show()"
   ]
  },
  {
   "cell_type": "markdown",
   "id": "weighted-twenty",
   "metadata": {},
   "source": [
    "### Counting Bad Weather Conditions<a class=\"anchor\" id=\"badweather\"></a>"
   ]
  },
  {
   "cell_type": "markdown",
   "id": "ignored-parameter",
   "metadata": {},
   "source": [
    "The weather data frame contains 20 columns that start with 'WT', each of which represents a bad weather condition. For every row in the dataset, each WT column contains either a 1 (meaning the condition was present that day) or NaN (meaning the condition was not present).\n",
    "\n",
    "We are going to quantify \"how bad\" the weather was each day by counting the number of 1 values in each row."
   ]
  },
  {
   "cell_type": "code",
   "execution_count": 81,
   "id": "suffering-welding",
   "metadata": {},
   "outputs": [],
   "source": [
    "WT = weather.loc[:, 'WT01' : 'WT22']                # storing bad weather conditions into a new data frame"
   ]
  },
  {
   "cell_type": "code",
   "execution_count": 82,
   "id": "insured-scout",
   "metadata": {},
   "outputs": [],
   "source": [
    "weather['bad_conditions'] = WT.sum(axis=1)          # calculating the sum of each row"
   ]
  },
  {
   "cell_type": "code",
   "execution_count": 83,
   "id": "grateful-imagination",
   "metadata": {},
   "outputs": [
    {
     "data": {
      "image/png": "[encoded data removed]",
      "text/plain": [
       "<Figure size 432x288 with 1 Axes>"
      ]
     },
     "metadata": {
      "needs_background": "light"
     },
     "output_type": "display_data"
    }
   ],
   "source": [
    "weather.bad_conditions.hist()\n",
    "\n",
    "plt.show()"
   ]
  },
  {
   "cell_type": "markdown",
   "id": "adequate-uniform",
   "metadata": {},
   "source": [
    "### Rating the Weather Conditions<a class=\"anchor\" id=\"ratingweather\"></a>"
   ]
  },
  {
   "cell_type": "markdown",
   "id": "atomic-strategy",
   "metadata": {},
   "source": [
    "We previously counted the number of bad weather conditions of each day. Now, we are going to use the counts to create a rating system for the weather."
   ]
  },
  {
   "cell_type": "code",
   "execution_count": 84,
   "id": "angry-brave",
   "metadata": {},
   "outputs": [
    {
     "data": {
      "text/plain": [
       "0.0    5738\n",
       "1.0     628\n",
       "2.0     368\n",
       "3.0     380\n",
       "4.0     476\n",
       "5.0     282\n",
       "6.0     101\n",
       "7.0      41\n",
       "8.0       4\n",
       "9.0       4\n",
       "Name: bad_conditions, dtype: int64"
      ]
     },
     "execution_count": 84,
     "metadata": {},
     "output_type": "execute_result"
    }
   ],
   "source": [
    "weather.bad_conditions.value_counts().sort_index()                # bad conditions by index"
   ]
  },
  {
   "cell_type": "code",
   "execution_count": 85,
   "id": "blank-thompson",
   "metadata": {},
   "outputs": [],
   "source": [
    "weather['rating'] = weather.bad_conditions.map(lambda \n",
    "                                               x: 'good' if x == 0 else('bad' if (1 <= x <= 4) else 'worse'))\n",
    "\n",
    "                                               # converting:\n",
    "                                               # 0 to 'good'\n",
    "                                               # 1-4 to 'bad'\n",
    "                                               # 5-9 to 'worse'"
   ]
  },
  {
   "cell_type": "code",
   "execution_count": 86,
   "id": "registered-underwear",
   "metadata": {},
   "outputs": [
    {
     "data": {
      "text/plain": [
       "good     5738\n",
       "bad      1852\n",
       "worse     432\n",
       "Name: rating, dtype: int64"
      ]
     },
     "execution_count": 86,
     "metadata": {},
     "output_type": "execute_result"
    }
   ],
   "source": [
    "weather.rating.value_counts()                                     # counting ratings"
   ]
  },
  {
   "cell_type": "code",
   "execution_count": 87,
   "id": "forward-louisiana",
   "metadata": {},
   "outputs": [],
   "source": [
    "cats = pd.api.types.CategoricalDtype(categories=['bad', 'worse', 'good'], ordered=True)\n",
    "\n",
    "                                                                  # creating an ordered categorical data type"
   ]
  },
  {
   "cell_type": "code",
   "execution_count": 88,
   "id": "unknown-transition",
   "metadata": {},
   "outputs": [],
   "source": [
    "weather['rating'] = weather.rating.astype(cats)                   # changing the data type of weather['rating']"
   ]
  },
  {
   "cell_type": "code",
   "execution_count": 89,
   "id": "current-appeal",
   "metadata": {},
   "outputs": [
    {
     "data": {
      "text/plain": [
       "8017     bad\n",
       "8018    good\n",
       "8019     bad\n",
       "8020     bad\n",
       "8021     bad\n",
       "Name: rating, dtype: category\n",
       "Categories (3, object): ['bad' < 'worse' < 'good']"
      ]
     },
     "execution_count": 89,
     "metadata": {},
     "output_type": "execute_result"
    }
   ],
   "source": [
    "weather.rating.tail()"
   ]
  },
  {
   "cell_type": "markdown",
   "id": "psychological-serbia",
   "metadata": {},
   "source": [
    "### Comparing Arrest Rates by Weather Rating<a class=\"anchor\" id=\"weatherandarrestrate\"></a>"
   ]
  },
  {
   "cell_type": "markdown",
   "id": "efficient-vampire",
   "metadata": {},
   "source": [
    "#### Preparing the DataFrames<a class=\"anchor\" id=\"dfprep\"></a>"
   ]
  },
  {
   "cell_type": "code",
   "execution_count": 130,
   "id": "uniform-adolescent",
   "metadata": {},
   "outputs": [],
   "source": [
    "df.reset_index(inplace=True)                                       # resetting the index"
   ]
  },
  {
   "cell_type": "code",
   "execution_count": 131,
   "id": "recovered-walnut",
   "metadata": {},
   "outputs": [],
   "source": [
    "weather_rating = weather[['DATE', 'rating']]                       # creating a new data frame"
   ]
  },
  {
   "cell_type": "markdown",
   "id": "micro-express",
   "metadata": {},
   "source": [
    "#### Merging the DataFrames<a class=\"anchor\" id=\"dfmerge\"></a>"
   ]
  },
  {
   "cell_type": "code",
   "execution_count": 132,
   "id": "arbitrary-brazilian",
   "metadata": {},
   "outputs": [
    {
     "data": {
      "text/plain": [
       "(480584, 30)"
      ]
     },
     "execution_count": 132,
     "metadata": {},
     "output_type": "execute_result"
    }
   ],
   "source": [
    "df.shape                                                           # checking the dimensions"
   ]
  },
  {
   "cell_type": "code",
   "execution_count": 133,
   "id": "relevant-debate",
   "metadata": {},
   "outputs": [],
   "source": [
    "weather_rating = weather_rating.drop_duplicates(subset='DATE')     # dropping duplicates"
   ]
  },
  {
   "cell_type": "code",
   "execution_count": 134,
   "id": "guilty-outreach",
   "metadata": {},
   "outputs": [],
   "source": [
    "weather_rating.reset_index(inplace=True)                           # resetting the index"
   ]
  },
  {
   "cell_type": "code",
   "execution_count": 135,
   "id": "referenced-tactics",
   "metadata": {},
   "outputs": [],
   "source": [
    "weather_rating = weather_rating.drop('index', axis=1)              # dropping the former index"
   ]
  },
  {
   "cell_type": "code",
   "execution_count": 136,
   "id": "traditional-collect",
   "metadata": {},
   "outputs": [],
   "source": [
    "df_weather = pd.merge(left=df,\n",
    "                      right=weather_rating,\n",
    "                      left_on='stop_date',\n",
    "                      right_on='DATE',\n",
    "                      how='left')                                  # merging the data frames"
   ]
  },
  {
   "cell_type": "code",
   "execution_count": 137,
   "id": "decreased-failure",
   "metadata": {},
   "outputs": [
    {
     "data": {
      "text/plain": [
       "(480584, 32)"
      ]
     },
     "execution_count": 137,
     "metadata": {},
     "output_type": "execute_result"
    }
   ],
   "source": [
    "df_weather.shape                                                   # rechecking the dimensions"
   ]
  },
  {
   "cell_type": "code",
   "execution_count": 138,
   "id": "surprised-smooth",
   "metadata": {},
   "outputs": [
    {
     "data": {
      "text/html": [
       "<div>\n",
       "<style scoped>\n",
       "    .dataframe tbody tr th:only-of-type {\n",
       "        vertical-align: middle;\n",
       "    }\n",
       "\n",
       "    .dataframe tbody tr th {\n",
       "        vertical-align: top;\n",
       "    }\n",
       "\n",
       "    .dataframe thead th {\n",
       "        text-align: right;\n",
       "    }\n",
       "</style>\n",
       "<table border=\"1\" class=\"dataframe\">\n",
       "  <thead>\n",
       "    <tr style=\"text-align: right;\">\n",
       "      <th></th>\n",
       "      <th>level_0</th>\n",
       "      <th>index</th>\n",
       "      <th>stop_datetime</th>\n",
       "      <th>id</th>\n",
       "      <th>stop_date</th>\n",
       "      <th>stop_time</th>\n",
       "      <th>location_raw</th>\n",
       "      <th>county_fips</th>\n",
       "      <th>fine_grained_location</th>\n",
       "      <th>police_department</th>\n",
       "      <th>...</th>\n",
       "      <th>is_arrested</th>\n",
       "      <th>stop_duration</th>\n",
       "      <th>out_of_state</th>\n",
       "      <th>drugs_related_stop</th>\n",
       "      <th>district</th>\n",
       "      <th>combined</th>\n",
       "      <th>frisk</th>\n",
       "      <th>stop_minutes</th>\n",
       "      <th>DATE</th>\n",
       "      <th>rating</th>\n",
       "    </tr>\n",
       "  </thead>\n",
       "  <tbody>\n",
       "    <tr>\n",
       "      <th>0</th>\n",
       "      <td>0</td>\n",
       "      <td>0</td>\n",
       "      <td>2005-01-02 01:55:00</td>\n",
       "      <td>RI-2005-00001</td>\n",
       "      <td>2005-01-02</td>\n",
       "      <td>01:55</td>\n",
       "      <td>Zone K1</td>\n",
       "      <td>NaN</td>\n",
       "      <td>NaN</td>\n",
       "      <td>600</td>\n",
       "      <td>...</td>\n",
       "      <td>False</td>\n",
       "      <td>0-15 Min</td>\n",
       "      <td>False</td>\n",
       "      <td>False</td>\n",
       "      <td>Zone K1</td>\n",
       "      <td>2005-01-02 01:55</td>\n",
       "      <td>True</td>\n",
       "      <td>8</td>\n",
       "      <td>2005-01-02</td>\n",
       "      <td>good</td>\n",
       "    </tr>\n",
       "    <tr>\n",
       "      <th>1</th>\n",
       "      <td>1</td>\n",
       "      <td>1</td>\n",
       "      <td>2005-01-02 20:30:00</td>\n",
       "      <td>RI-2005-00002</td>\n",
       "      <td>2005-01-02</td>\n",
       "      <td>20:30</td>\n",
       "      <td>Zone X4</td>\n",
       "      <td>NaN</td>\n",
       "      <td>NaN</td>\n",
       "      <td>500</td>\n",
       "      <td>...</td>\n",
       "      <td>False</td>\n",
       "      <td>16-30 Min</td>\n",
       "      <td>False</td>\n",
       "      <td>False</td>\n",
       "      <td>Zone X4</td>\n",
       "      <td>2005-01-02 20:30</td>\n",
       "      <td>True</td>\n",
       "      <td>23</td>\n",
       "      <td>2005-01-02</td>\n",
       "      <td>good</td>\n",
       "    </tr>\n",
       "    <tr>\n",
       "      <th>2</th>\n",
       "      <td>2</td>\n",
       "      <td>2</td>\n",
       "      <td>2005-01-04 12:55:00</td>\n",
       "      <td>RI-2005-00004</td>\n",
       "      <td>2005-01-04</td>\n",
       "      <td>12:55</td>\n",
       "      <td>Zone X4</td>\n",
       "      <td>NaN</td>\n",
       "      <td>NaN</td>\n",
       "      <td>500</td>\n",
       "      <td>...</td>\n",
       "      <td>False</td>\n",
       "      <td>0-15 Min</td>\n",
       "      <td>False</td>\n",
       "      <td>False</td>\n",
       "      <td>Zone X4</td>\n",
       "      <td>2005-01-04 12:55</td>\n",
       "      <td>True</td>\n",
       "      <td>8</td>\n",
       "      <td>2005-01-04</td>\n",
       "      <td>good</td>\n",
       "    </tr>\n",
       "    <tr>\n",
       "      <th>3</th>\n",
       "      <td>3</td>\n",
       "      <td>3</td>\n",
       "      <td>2005-01-06 01:30:00</td>\n",
       "      <td>RI-2005-00005</td>\n",
       "      <td>2005-01-06</td>\n",
       "      <td>01:30</td>\n",
       "      <td>Zone X4</td>\n",
       "      <td>NaN</td>\n",
       "      <td>NaN</td>\n",
       "      <td>500</td>\n",
       "      <td>...</td>\n",
       "      <td>False</td>\n",
       "      <td>0-15 Min</td>\n",
       "      <td>False</td>\n",
       "      <td>False</td>\n",
       "      <td>Zone X4</td>\n",
       "      <td>2005-01-06 01:30</td>\n",
       "      <td>True</td>\n",
       "      <td>8</td>\n",
       "      <td>2005-01-06</td>\n",
       "      <td>good</td>\n",
       "    </tr>\n",
       "    <tr>\n",
       "      <th>4</th>\n",
       "      <td>4</td>\n",
       "      <td>4</td>\n",
       "      <td>2005-01-12 08:05:00</td>\n",
       "      <td>RI-2005-00006</td>\n",
       "      <td>2005-01-12</td>\n",
       "      <td>08:05</td>\n",
       "      <td>Zone X1</td>\n",
       "      <td>NaN</td>\n",
       "      <td>NaN</td>\n",
       "      <td>0</td>\n",
       "      <td>...</td>\n",
       "      <td>False</td>\n",
       "      <td>30+ Min</td>\n",
       "      <td>True</td>\n",
       "      <td>False</td>\n",
       "      <td>Zone X1</td>\n",
       "      <td>2005-01-12 08:05</td>\n",
       "      <td>True</td>\n",
       "      <td>45</td>\n",
       "      <td>2005-01-12</td>\n",
       "      <td>good</td>\n",
       "    </tr>\n",
       "    <tr>\n",
       "      <th>...</th>\n",
       "      <td>...</td>\n",
       "      <td>...</td>\n",
       "      <td>...</td>\n",
       "      <td>...</td>\n",
       "      <td>...</td>\n",
       "      <td>...</td>\n",
       "      <td>...</td>\n",
       "      <td>...</td>\n",
       "      <td>...</td>\n",
       "      <td>...</td>\n",
       "      <td>...</td>\n",
       "      <td>...</td>\n",
       "      <td>...</td>\n",
       "      <td>...</td>\n",
       "      <td>...</td>\n",
       "      <td>...</td>\n",
       "      <td>...</td>\n",
       "      <td>...</td>\n",
       "      <td>...</td>\n",
       "      <td>...</td>\n",
       "      <td>...</td>\n",
       "    </tr>\n",
       "    <tr>\n",
       "      <th>480579</th>\n",
       "      <td>480579</td>\n",
       "      <td>480579</td>\n",
       "      <td>2015-12-31 22:46:00</td>\n",
       "      <td>RI-2015-47061</td>\n",
       "      <td>2015-12-31</td>\n",
       "      <td>22:46</td>\n",
       "      <td>Zone X1</td>\n",
       "      <td>NaN</td>\n",
       "      <td>NaN</td>\n",
       "      <td>0.0</td>\n",
       "      <td>...</td>\n",
       "      <td>False</td>\n",
       "      <td>0-15 Min</td>\n",
       "      <td>True</td>\n",
       "      <td>False</td>\n",
       "      <td>Zone X1</td>\n",
       "      <td>2015-12-31 22:46</td>\n",
       "      <td>True</td>\n",
       "      <td>8</td>\n",
       "      <td>2015-12-31</td>\n",
       "      <td>good</td>\n",
       "    </tr>\n",
       "    <tr>\n",
       "      <th>480580</th>\n",
       "      <td>480580</td>\n",
       "      <td>480580</td>\n",
       "      <td>2015-12-31 22:47:00</td>\n",
       "      <td>RI-2015-47062</td>\n",
       "      <td>2015-12-31</td>\n",
       "      <td>22:47</td>\n",
       "      <td>Zone X4</td>\n",
       "      <td>NaN</td>\n",
       "      <td>NaN</td>\n",
       "      <td>500.0</td>\n",
       "      <td>...</td>\n",
       "      <td>False</td>\n",
       "      <td>0-15 Min</td>\n",
       "      <td>False</td>\n",
       "      <td>False</td>\n",
       "      <td>Zone X4</td>\n",
       "      <td>2015-12-31 22:47</td>\n",
       "      <td>True</td>\n",
       "      <td>8</td>\n",
       "      <td>2015-12-31</td>\n",
       "      <td>good</td>\n",
       "    </tr>\n",
       "    <tr>\n",
       "      <th>480581</th>\n",
       "      <td>480581</td>\n",
       "      <td>480581</td>\n",
       "      <td>2015-12-31 23:08:00</td>\n",
       "      <td>RI-2015-47063</td>\n",
       "      <td>2015-12-31</td>\n",
       "      <td>23:08</td>\n",
       "      <td>Zone X3</td>\n",
       "      <td>NaN</td>\n",
       "      <td>NaN</td>\n",
       "      <td>200.0</td>\n",
       "      <td>...</td>\n",
       "      <td>False</td>\n",
       "      <td>0-15 Min</td>\n",
       "      <td>False</td>\n",
       "      <td>False</td>\n",
       "      <td>Zone X3</td>\n",
       "      <td>2015-12-31 23:08</td>\n",
       "      <td>True</td>\n",
       "      <td>8</td>\n",
       "      <td>2015-12-31</td>\n",
       "      <td>good</td>\n",
       "    </tr>\n",
       "    <tr>\n",
       "      <th>480582</th>\n",
       "      <td>480582</td>\n",
       "      <td>480582</td>\n",
       "      <td>2015-12-31 23:44:00</td>\n",
       "      <td>RI-2015-47064</td>\n",
       "      <td>2015-12-31</td>\n",
       "      <td>23:44</td>\n",
       "      <td>Zone K2</td>\n",
       "      <td>NaN</td>\n",
       "      <td>NaN</td>\n",
       "      <td>900.0</td>\n",
       "      <td>...</td>\n",
       "      <td>False</td>\n",
       "      <td>0-15 Min</td>\n",
       "      <td>False</td>\n",
       "      <td>False</td>\n",
       "      <td>Zone K2</td>\n",
       "      <td>2015-12-31 23:44</td>\n",
       "      <td>True</td>\n",
       "      <td>8</td>\n",
       "      <td>2015-12-31</td>\n",
       "      <td>good</td>\n",
       "    </tr>\n",
       "    <tr>\n",
       "      <th>480583</th>\n",
       "      <td>480583</td>\n",
       "      <td>480583</td>\n",
       "      <td>2015-12-31 23:48:00</td>\n",
       "      <td>RI-2015-47065</td>\n",
       "      <td>2015-12-31</td>\n",
       "      <td>23:48</td>\n",
       "      <td>Zone K3</td>\n",
       "      <td>NaN</td>\n",
       "      <td>NaN</td>\n",
       "      <td>300.0</td>\n",
       "      <td>...</td>\n",
       "      <td>False</td>\n",
       "      <td>0-15 Min</td>\n",
       "      <td>False</td>\n",
       "      <td>False</td>\n",
       "      <td>Zone K3</td>\n",
       "      <td>2015-12-31 23:48</td>\n",
       "      <td>True</td>\n",
       "      <td>8</td>\n",
       "      <td>2015-12-31</td>\n",
       "      <td>good</td>\n",
       "    </tr>\n",
       "  </tbody>\n",
       "</table>\n",
       "<p>480584 rows × 32 columns</p>\n",
       "</div>"
      ],
      "text/plain": [
       "        level_0   index       stop_datetime             id   stop_date  \\\n",
       "0             0       0 2005-01-02 01:55:00  RI-2005-00001  2005-01-02   \n",
       "1             1       1 2005-01-02 20:30:00  RI-2005-00002  2005-01-02   \n",
       "2             2       2 2005-01-04 12:55:00  RI-2005-00004  2005-01-04   \n",
       "3             3       3 2005-01-06 01:30:00  RI-2005-00005  2005-01-06   \n",
       "4             4       4 2005-01-12 08:05:00  RI-2005-00006  2005-01-12   \n",
       "...         ...     ...                 ...            ...         ...   \n",
       "480579   480579  480579 2015-12-31 22:46:00  RI-2015-47061  2015-12-31   \n",
       "480580   480580  480580 2015-12-31 22:47:00  RI-2015-47062  2015-12-31   \n",
       "480581   480581  480581 2015-12-31 23:08:00  RI-2015-47063  2015-12-31   \n",
       "480582   480582  480582 2015-12-31 23:44:00  RI-2015-47064  2015-12-31   \n",
       "480583   480583  480583 2015-12-31 23:48:00  RI-2015-47065  2015-12-31   \n",
       "\n",
       "       stop_time location_raw  county_fips  fine_grained_location  \\\n",
       "0          01:55      Zone K1          NaN                    NaN   \n",
       "1          20:30      Zone X4          NaN                    NaN   \n",
       "2          12:55      Zone X4          NaN                    NaN   \n",
       "3          01:30      Zone X4          NaN                    NaN   \n",
       "4          08:05      Zone X1          NaN                    NaN   \n",
       "...          ...          ...          ...                    ...   \n",
       "480579     22:46      Zone X1          NaN                    NaN   \n",
       "480580     22:47      Zone X4          NaN                    NaN   \n",
       "480581     23:08      Zone X3          NaN                    NaN   \n",
       "480582     23:44      Zone K2          NaN                    NaN   \n",
       "480583     23:48      Zone K3          NaN                    NaN   \n",
       "\n",
       "       police_department  ... is_arrested  stop_duration  out_of_state  \\\n",
       "0                    600  ...       False       0-15 Min         False   \n",
       "1                    500  ...       False      16-30 Min         False   \n",
       "2                    500  ...       False       0-15 Min         False   \n",
       "3                    500  ...       False       0-15 Min         False   \n",
       "4                      0  ...       False        30+ Min          True   \n",
       "...                  ...  ...         ...            ...           ...   \n",
       "480579               0.0  ...       False       0-15 Min          True   \n",
       "480580             500.0  ...       False       0-15 Min         False   \n",
       "480581             200.0  ...       False       0-15 Min         False   \n",
       "480582             900.0  ...       False       0-15 Min         False   \n",
       "480583             300.0  ...       False       0-15 Min         False   \n",
       "\n",
       "       drugs_related_stop district          combined frisk  stop_minutes  \\\n",
       "0                   False  Zone K1  2005-01-02 01:55  True             8   \n",
       "1                   False  Zone X4  2005-01-02 20:30  True            23   \n",
       "2                   False  Zone X4  2005-01-04 12:55  True             8   \n",
       "3                   False  Zone X4  2005-01-06 01:30  True             8   \n",
       "4                   False  Zone X1  2005-01-12 08:05  True            45   \n",
       "...                   ...      ...               ...   ...           ...   \n",
       "480579              False  Zone X1  2015-12-31 22:46  True             8   \n",
       "480580              False  Zone X4  2015-12-31 22:47  True             8   \n",
       "480581              False  Zone X3  2015-12-31 23:08  True             8   \n",
       "480582              False  Zone K2  2015-12-31 23:44  True             8   \n",
       "480583              False  Zone K3  2015-12-31 23:48  True             8   \n",
       "\n",
       "              DATE rating  \n",
       "0       2005-01-02   good  \n",
       "1       2005-01-02   good  \n",
       "2       2005-01-04   good  \n",
       "3       2005-01-06   good  \n",
       "4       2005-01-12   good  \n",
       "...            ...    ...  \n",
       "480579  2015-12-31   good  \n",
       "480580  2015-12-31   good  \n",
       "480581  2015-12-31   good  \n",
       "480582  2015-12-31   good  \n",
       "480583  2015-12-31   good  \n",
       "\n",
       "[480584 rows x 32 columns]"
      ]
     },
     "execution_count": 138,
     "metadata": {},
     "output_type": "execute_result"
    }
   ],
   "source": [
    "df_weather"
   ]
  },
  {
   "cell_type": "markdown",
   "id": "aging-composition",
   "metadata": {},
   "source": [
    "***"
   ]
  },
  {
   "cell_type": "code",
   "execution_count": 139,
   "id": "naked-contemporary",
   "metadata": {},
   "outputs": [
    {
     "data": {
      "text/plain": [
       "0.03454755048024903"
      ]
     },
     "execution_count": 139,
     "metadata": {},
     "output_type": "execute_result"
    }
   ],
   "source": [
    "df_weather.is_arrested.mean()                   # calculating the overall arrest rate"
   ]
  },
  {
   "cell_type": "code",
   "execution_count": 140,
   "id": "integral-flood",
   "metadata": {},
   "outputs": [
    {
     "data": {
      "text/plain": [
       "rating  violation          \n",
       "bad     Equipment              0.054348\n",
       "        Moving violation       0.066667\n",
       "        Other                  0.237288\n",
       "        Registration/plates    0.017857\n",
       "        Seat belt              0.000000\n",
       "        Speeding               0.008850\n",
       "worse   Equipment              0.083333\n",
       "        Moving violation       0.030075\n",
       "        Other                  0.069767\n",
       "        Registration/plates    0.000000\n",
       "        Seat belt                   NaN\n",
       "        Speeding               0.009464\n",
       "good    Equipment              0.060392\n",
       "        Moving violation       0.057303\n",
       "        Other                  0.079829\n",
       "        Registration/plates    0.086129\n",
       "        Seat belt              0.026836\n",
       "        Speeding               0.013616\n",
       "Name: is_arrested, dtype: float64"
      ]
     },
     "execution_count": 140,
     "metadata": {},
     "output_type": "execute_result"
    }
   ],
   "source": [
    "df_weather.groupby(['rating', 'violation']).mean().is_arrested\n",
    "\n",
    "                                                # calculating the arrest rate for each of the weather ratings"
   ]
  },
  {
   "cell_type": "code",
   "execution_count": 142,
   "id": "cognitive-wrapping",
   "metadata": {},
   "outputs": [
    {
     "data": {
      "text/plain": [
       "violation            rating\n",
       "Equipment            bad       0.054348\n",
       "                     worse     0.083333\n",
       "                     good      0.060392\n",
       "Moving violation     bad       0.066667\n",
       "                     worse     0.030075\n",
       "                     good      0.057303\n",
       "Other                bad       0.237288\n",
       "                     worse     0.069767\n",
       "                     good      0.079829\n",
       "Registration/plates  bad       0.017857\n",
       "                     worse     0.000000\n",
       "                     good      0.086129\n",
       "Seat belt            bad       0.000000\n",
       "                     worse          NaN\n",
       "                     good      0.026836\n",
       "Speeding             bad       0.008850\n",
       "                     worse     0.009464\n",
       "                     good      0.013616\n",
       "Name: is_arrested, dtype: float64"
      ]
     },
     "execution_count": 142,
     "metadata": {},
     "output_type": "execute_result"
    }
   ],
   "source": [
    "df_weather.groupby(['violation', 'rating']).mean().is_arrested"
   ]
  },
  {
   "cell_type": "code",
   "execution_count": 143,
   "id": "neural-medicare",
   "metadata": {},
   "outputs": [],
   "source": [
    "arrest_rate = df_weather.groupby(['rating', 'violation']).mean().is_arrested"
   ]
  },
  {
   "cell_type": "code",
   "execution_count": 144,
   "id": "basic-listing",
   "metadata": {},
   "outputs": [
    {
     "data": {
      "text/plain": [
       "0.06666666666666667"
      ]
     },
     "execution_count": 144,
     "metadata": {},
     "output_type": "execute_result"
    }
   ],
   "source": [
    "arrest_rate.loc['bad', 'Moving violation']     #  arrest rate for moving violations in bad weather"
   ]
  },
  {
   "cell_type": "code",
   "execution_count": 145,
   "id": "rolled-investigation",
   "metadata": {
    "scrolled": true
   },
   "outputs": [
    {
     "data": {
      "text/plain": [
       "rating\n",
       "bad      0.008850\n",
       "worse    0.009464\n",
       "good     0.013616\n",
       "Name: is_arrested, dtype: float64"
      ]
     },
     "execution_count": 145,
     "metadata": {},
     "output_type": "execute_result"
    }
   ],
   "source": [
    "arrest_rate.loc[:, 'Speeding']                 # arrest rates for speeding violations in all weather conditions"
   ]
  },
  {
   "cell_type": "code",
   "execution_count": 146,
   "id": "operational-census",
   "metadata": {},
   "outputs": [
    {
     "data": {
      "text/html": [
       "<div>\n",
       "<style scoped>\n",
       "    .dataframe tbody tr th:only-of-type {\n",
       "        vertical-align: middle;\n",
       "    }\n",
       "\n",
       "    .dataframe tbody tr th {\n",
       "        vertical-align: top;\n",
       "    }\n",
       "\n",
       "    .dataframe thead th {\n",
       "        text-align: right;\n",
       "    }\n",
       "</style>\n",
       "<table border=\"1\" class=\"dataframe\">\n",
       "  <thead>\n",
       "    <tr style=\"text-align: right;\">\n",
       "      <th>violation</th>\n",
       "      <th>Equipment</th>\n",
       "      <th>Moving violation</th>\n",
       "      <th>Other</th>\n",
       "      <th>Registration/plates</th>\n",
       "      <th>Seat belt</th>\n",
       "      <th>Speeding</th>\n",
       "    </tr>\n",
       "    <tr>\n",
       "      <th>rating</th>\n",
       "      <th></th>\n",
       "      <th></th>\n",
       "      <th></th>\n",
       "      <th></th>\n",
       "      <th></th>\n",
       "      <th></th>\n",
       "    </tr>\n",
       "  </thead>\n",
       "  <tbody>\n",
       "    <tr>\n",
       "      <th>bad</th>\n",
       "      <td>0.054348</td>\n",
       "      <td>0.066667</td>\n",
       "      <td>0.237288</td>\n",
       "      <td>0.017857</td>\n",
       "      <td>0.000000</td>\n",
       "      <td>0.008850</td>\n",
       "    </tr>\n",
       "    <tr>\n",
       "      <th>worse</th>\n",
       "      <td>0.083333</td>\n",
       "      <td>0.030075</td>\n",
       "      <td>0.069767</td>\n",
       "      <td>0.000000</td>\n",
       "      <td>NaN</td>\n",
       "      <td>0.009464</td>\n",
       "    </tr>\n",
       "    <tr>\n",
       "      <th>good</th>\n",
       "      <td>0.060392</td>\n",
       "      <td>0.057303</td>\n",
       "      <td>0.079829</td>\n",
       "      <td>0.086129</td>\n",
       "      <td>0.026836</td>\n",
       "      <td>0.013616</td>\n",
       "    </tr>\n",
       "  </tbody>\n",
       "</table>\n",
       "</div>"
      ],
      "text/plain": [
       "violation  Equipment  Moving violation     Other  Registration/plates  \\\n",
       "rating                                                                  \n",
       "bad         0.054348          0.066667  0.237288             0.017857   \n",
       "worse       0.083333          0.030075  0.069767             0.000000   \n",
       "good        0.060392          0.057303  0.079829             0.086129   \n",
       "\n",
       "violation  Seat belt  Speeding  \n",
       "rating                          \n",
       "bad         0.000000  0.008850  \n",
       "worse            NaN  0.009464  \n",
       "good        0.026836  0.013616  "
      ]
     },
     "execution_count": 146,
     "metadata": {},
     "output_type": "execute_result"
    }
   ],
   "source": [
    "arrest_rate.unstack()                          # reshaping arrest_rate into a data frame using .unstack()"
   ]
  },
  {
   "cell_type": "code",
   "execution_count": 147,
   "id": "guilty-questionnaire",
   "metadata": {},
   "outputs": [
    {
     "data": {
      "text/html": [
       "<div>\n",
       "<style scoped>\n",
       "    .dataframe tbody tr th:only-of-type {\n",
       "        vertical-align: middle;\n",
       "    }\n",
       "\n",
       "    .dataframe tbody tr th {\n",
       "        vertical-align: top;\n",
       "    }\n",
       "\n",
       "    .dataframe thead th {\n",
       "        text-align: right;\n",
       "    }\n",
       "</style>\n",
       "<table border=\"1\" class=\"dataframe\">\n",
       "  <thead>\n",
       "    <tr style=\"text-align: right;\">\n",
       "      <th>violation</th>\n",
       "      <th>Equipment</th>\n",
       "      <th>Moving violation</th>\n",
       "      <th>Other</th>\n",
       "      <th>Registration/plates</th>\n",
       "      <th>Seat belt</th>\n",
       "      <th>Speeding</th>\n",
       "    </tr>\n",
       "    <tr>\n",
       "      <th>rating</th>\n",
       "      <th></th>\n",
       "      <th></th>\n",
       "      <th></th>\n",
       "      <th></th>\n",
       "      <th></th>\n",
       "      <th></th>\n",
       "    </tr>\n",
       "  </thead>\n",
       "  <tbody>\n",
       "    <tr>\n",
       "      <th>bad</th>\n",
       "      <td>0.054348</td>\n",
       "      <td>0.066667</td>\n",
       "      <td>0.237288</td>\n",
       "      <td>0.017857</td>\n",
       "      <td>0.000000</td>\n",
       "      <td>0.008850</td>\n",
       "    </tr>\n",
       "    <tr>\n",
       "      <th>worse</th>\n",
       "      <td>0.083333</td>\n",
       "      <td>0.030075</td>\n",
       "      <td>0.069767</td>\n",
       "      <td>0.000000</td>\n",
       "      <td>NaN</td>\n",
       "      <td>0.009464</td>\n",
       "    </tr>\n",
       "    <tr>\n",
       "      <th>good</th>\n",
       "      <td>0.060392</td>\n",
       "      <td>0.057303</td>\n",
       "      <td>0.079829</td>\n",
       "      <td>0.086129</td>\n",
       "      <td>0.026836</td>\n",
       "      <td>0.013616</td>\n",
       "    </tr>\n",
       "  </tbody>\n",
       "</table>\n",
       "</div>"
      ],
      "text/plain": [
       "violation  Equipment  Moving violation     Other  Registration/plates  \\\n",
       "rating                                                                  \n",
       "bad         0.054348          0.066667  0.237288             0.017857   \n",
       "worse       0.083333          0.030075  0.069767             0.000000   \n",
       "good        0.060392          0.057303  0.079829             0.086129   \n",
       "\n",
       "violation  Seat belt  Speeding  \n",
       "rating                          \n",
       "bad         0.000000  0.008850  \n",
       "worse            NaN  0.009464  \n",
       "good        0.026836  0.013616  "
      ]
     },
     "execution_count": 147,
     "metadata": {},
     "output_type": "execute_result"
    }
   ],
   "source": [
    "pd.pivot_table(df_weather,                     # creating a pivot table\n",
    "               index='rating',\n",
    "               columns='violation',\n",
    "               values='is_arrested')"
   ]
  },
  {
   "cell_type": "markdown",
   "id": "realistic-briefing",
   "metadata": {},
   "source": [
    "## Summary<a class=\"anchor\" id=\"summary\"></a>"
   ]
  },
  {
   "cell_type": "markdown",
   "id": "pointed-begin",
   "metadata": {},
   "source": [
    "With the help of weather and traffic stop datasets we were able to unveil pretty interesting connections between the features."
   ]
  },
  {
   "cell_type": "markdown",
   "id": "romantic-palmer",
   "metadata": {},
   "source": [
    "### Conclusion<a class=\"anchor\" id=\"conc\"></a>"
   ]
  },
  {
   "cell_type": "markdown",
   "id": "stretch-counter",
   "metadata": {},
   "source": [
    "- Male and female drivers do not tend to commit different types of traffic violations.\n",
    "- Gender does not have an impact on whether the driver will receive a ticket or a warning.\n",
    "- The search rate for males is much higher than it is for females.\n",
    "- Males are frisked more often than females which might mean that police officers consider males to be higher risk.\n",
    "- When a driver gets stopped, they are more likely to get arrested at night.\n",
    "- Drug-related stops are becoming more common over time.\n",
    "- When a driver gets stopped for speeding, they are less likely to get arrested in bad weather conditions."
   ]
  }
 ],
 "metadata": {
  "kernelspec": {
   "display_name": "Python 3 (ipykernel)",
   "language": "python",
   "name": "python3"
  },
  "language_info": {
   "codemirror_mode": {
    "name": "ipython",
    "version": 3
   },
   "file_extension": ".py",
   "mimetype": "text/x-python",
   "name": "python",
   "nbconvert_exporter": "python",
   "pygments_lexer": "ipython3",
   "version": "3.9.13"
  }
 },
 "nbformat": 4,
 "nbformat_minor": 5
}
